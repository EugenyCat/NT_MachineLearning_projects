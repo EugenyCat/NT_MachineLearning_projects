{
 "cells": [
  {
   "cell_type": "markdown",
   "id": "21f36496",
   "metadata": {
    "pycharm": {
     "name": "#%% md\n"
    }
   },
   "source": [
    "<b>Tasks:</b>\n",
    "- Construct EDA process\n",
    "- Drop emissions"
   ]
  },
  {
   "cell_type": "code",
   "execution_count": 1,
   "id": "b76f7610",
   "metadata": {
    "pycharm": {
     "name": "#%%\n"
    }
   },
   "outputs": [],
   "source": [
    "import pandas as pd\n",
    "import numpy as np\n",
    "import seaborn as sns\n",
    "\n",
    "import warnings\n",
    "warnings.filterwarnings('ignore')"
   ]
  },
  {
   "cell_type": "code",
   "execution_count": 2,
   "id": "e6e33827",
   "metadata": {
    "pycharm": {
     "name": "#%%\n"
    }
   },
   "outputs": [
    {
     "name": "stdout",
     "output_type": "stream",
     "text": [
      "<class 'pandas.core.frame.DataFrame'>\n",
      "RangeIndex: 214 entries, 0 to 213\n",
      "Data columns (total 10 columns):\n",
      " #   Column  Non-Null Count  Dtype  \n",
      "---  ------  --------------  -----  \n",
      " 0   RI      214 non-null    float64\n",
      " 1   Na      214 non-null    float64\n",
      " 2   Mg      214 non-null    float64\n",
      " 3   Al      214 non-null    float64\n",
      " 4   Si      214 non-null    float64\n",
      " 5   K       214 non-null    float64\n",
      " 6   Ca      214 non-null    float64\n",
      " 7   Ba      214 non-null    float64\n",
      " 8   Fe      214 non-null    float64\n",
      " 9   Type    214 non-null    int64  \n",
      "dtypes: float64(9), int64(1)\n",
      "memory usage: 16.8 KB\n"
     ]
    }
   ],
   "source": [
    "# Step 1. Load Data\n",
    "df = pd.read_csv('datasets_features\\glass.csv')\n",
    "df.info()"
   ]
  },
  {
   "cell_type": "code",
   "execution_count": 3,
   "id": "3529fa46",
   "metadata": {
    "pycharm": {
     "name": "#%%\n"
    }
   },
   "outputs": [
    {
     "data": {
      "text/html": [
       "<div>\n",
       "<style scoped>\n",
       "    .dataframe tbody tr th:only-of-type {\n",
       "        vertical-align: middle;\n",
       "    }\n",
       "\n",
       "    .dataframe tbody tr th {\n",
       "        vertical-align: top;\n",
       "    }\n",
       "\n",
       "    .dataframe thead th {\n",
       "        text-align: right;\n",
       "    }\n",
       "</style>\n",
       "<table border=\"1\" class=\"dataframe\">\n",
       "  <thead>\n",
       "    <tr style=\"text-align: right;\">\n",
       "      <th></th>\n",
       "      <th>RI</th>\n",
       "      <th>Na</th>\n",
       "      <th>Mg</th>\n",
       "      <th>Al</th>\n",
       "      <th>Si</th>\n",
       "      <th>K</th>\n",
       "      <th>Ca</th>\n",
       "      <th>Ba</th>\n",
       "      <th>Fe</th>\n",
       "      <th>Type</th>\n",
       "    </tr>\n",
       "  </thead>\n",
       "  <tbody>\n",
       "    <tr>\n",
       "      <th>count</th>\n",
       "      <td>214.000000</td>\n",
       "      <td>214.000000</td>\n",
       "      <td>214.000000</td>\n",
       "      <td>214.000000</td>\n",
       "      <td>214.000000</td>\n",
       "      <td>214.000000</td>\n",
       "      <td>214.000000</td>\n",
       "      <td>214.000000</td>\n",
       "      <td>214.000000</td>\n",
       "      <td>214.000000</td>\n",
       "    </tr>\n",
       "    <tr>\n",
       "      <th>mean</th>\n",
       "      <td>1.518365</td>\n",
       "      <td>13.407850</td>\n",
       "      <td>2.684533</td>\n",
       "      <td>1.444907</td>\n",
       "      <td>72.650935</td>\n",
       "      <td>0.497056</td>\n",
       "      <td>8.956963</td>\n",
       "      <td>0.175047</td>\n",
       "      <td>0.057009</td>\n",
       "      <td>2.780374</td>\n",
       "    </tr>\n",
       "    <tr>\n",
       "      <th>std</th>\n",
       "      <td>0.003037</td>\n",
       "      <td>0.816604</td>\n",
       "      <td>1.442408</td>\n",
       "      <td>0.499270</td>\n",
       "      <td>0.774546</td>\n",
       "      <td>0.652192</td>\n",
       "      <td>1.423153</td>\n",
       "      <td>0.497219</td>\n",
       "      <td>0.097439</td>\n",
       "      <td>2.103739</td>\n",
       "    </tr>\n",
       "    <tr>\n",
       "      <th>min</th>\n",
       "      <td>1.511150</td>\n",
       "      <td>10.730000</td>\n",
       "      <td>0.000000</td>\n",
       "      <td>0.290000</td>\n",
       "      <td>69.810000</td>\n",
       "      <td>0.000000</td>\n",
       "      <td>5.430000</td>\n",
       "      <td>0.000000</td>\n",
       "      <td>0.000000</td>\n",
       "      <td>1.000000</td>\n",
       "    </tr>\n",
       "    <tr>\n",
       "      <th>25%</th>\n",
       "      <td>1.516522</td>\n",
       "      <td>12.907500</td>\n",
       "      <td>2.115000</td>\n",
       "      <td>1.190000</td>\n",
       "      <td>72.280000</td>\n",
       "      <td>0.122500</td>\n",
       "      <td>8.240000</td>\n",
       "      <td>0.000000</td>\n",
       "      <td>0.000000</td>\n",
       "      <td>1.000000</td>\n",
       "    </tr>\n",
       "    <tr>\n",
       "      <th>50%</th>\n",
       "      <td>1.517680</td>\n",
       "      <td>13.300000</td>\n",
       "      <td>3.480000</td>\n",
       "      <td>1.360000</td>\n",
       "      <td>72.790000</td>\n",
       "      <td>0.555000</td>\n",
       "      <td>8.600000</td>\n",
       "      <td>0.000000</td>\n",
       "      <td>0.000000</td>\n",
       "      <td>2.000000</td>\n",
       "    </tr>\n",
       "    <tr>\n",
       "      <th>75%</th>\n",
       "      <td>1.519157</td>\n",
       "      <td>13.825000</td>\n",
       "      <td>3.600000</td>\n",
       "      <td>1.630000</td>\n",
       "      <td>73.087500</td>\n",
       "      <td>0.610000</td>\n",
       "      <td>9.172500</td>\n",
       "      <td>0.000000</td>\n",
       "      <td>0.100000</td>\n",
       "      <td>3.000000</td>\n",
       "    </tr>\n",
       "    <tr>\n",
       "      <th>max</th>\n",
       "      <td>1.533930</td>\n",
       "      <td>17.380000</td>\n",
       "      <td>4.490000</td>\n",
       "      <td>3.500000</td>\n",
       "      <td>75.410000</td>\n",
       "      <td>6.210000</td>\n",
       "      <td>16.190000</td>\n",
       "      <td>3.150000</td>\n",
       "      <td>0.510000</td>\n",
       "      <td>7.000000</td>\n",
       "    </tr>\n",
       "  </tbody>\n",
       "</table>\n",
       "</div>"
      ],
      "text/plain": [
       "               RI          Na          Mg          Al          Si           K  \\\n",
       "count  214.000000  214.000000  214.000000  214.000000  214.000000  214.000000   \n",
       "mean     1.518365   13.407850    2.684533    1.444907   72.650935    0.497056   \n",
       "std      0.003037    0.816604    1.442408    0.499270    0.774546    0.652192   \n",
       "min      1.511150   10.730000    0.000000    0.290000   69.810000    0.000000   \n",
       "25%      1.516522   12.907500    2.115000    1.190000   72.280000    0.122500   \n",
       "50%      1.517680   13.300000    3.480000    1.360000   72.790000    0.555000   \n",
       "75%      1.519157   13.825000    3.600000    1.630000   73.087500    0.610000   \n",
       "max      1.533930   17.380000    4.490000    3.500000   75.410000    6.210000   \n",
       "\n",
       "               Ca          Ba          Fe        Type  \n",
       "count  214.000000  214.000000  214.000000  214.000000  \n",
       "mean     8.956963    0.175047    0.057009    2.780374  \n",
       "std      1.423153    0.497219    0.097439    2.103739  \n",
       "min      5.430000    0.000000    0.000000    1.000000  \n",
       "25%      8.240000    0.000000    0.000000    1.000000  \n",
       "50%      8.600000    0.000000    0.000000    2.000000  \n",
       "75%      9.172500    0.000000    0.100000    3.000000  \n",
       "max     16.190000    3.150000    0.510000    7.000000  "
      ]
     },
     "execution_count": 3,
     "metadata": {},
     "output_type": "execute_result"
    }
   ],
   "source": [
    "df.describe()"
   ]
  },
  {
   "cell_type": "code",
   "execution_count": 4,
   "id": "5f294ba0",
   "metadata": {
    "pycharm": {
     "name": "#%%\n"
    }
   },
   "outputs": [
    {
     "data": {
      "text/plain": [
       "2    76\n",
       "1    70\n",
       "7    29\n",
       "3    17\n",
       "5    13\n",
       "6     9\n",
       "Name: Type, dtype: int64"
      ]
     },
     "execution_count": 4,
     "metadata": {},
     "output_type": "execute_result"
    }
   ],
   "source": [
    "# Step 2. Class balance\n",
    "df.Type.value_counts()"
   ]
  },
  {
   "cell_type": "markdown",
   "id": "10e9660f",
   "metadata": {
    "pycharm": {
     "name": "#%% md\n"
    }
   },
   "source": [
    "Классы плохо сбалансированны."
   ]
  },
  {
   "cell_type": "code",
   "execution_count": 5,
   "id": "5c140f18",
   "metadata": {
    "pycharm": {
     "name": "#%%\n"
    }
   },
   "outputs": [
    {
     "name": "stdout",
     "output_type": "stream",
     "text": [
      "Deleted share: 0.0\n",
      "              precision    recall  f1-score   support\n",
      "\n",
      "           1       0.69      0.95      0.80        19\n",
      "           2       0.82      0.61      0.70        23\n",
      "           3       0.50      0.25      0.33         4\n",
      "           5       0.80      0.67      0.73         6\n",
      "           6       0.75      1.00      0.86         3\n",
      "           7       0.91      1.00      0.95        10\n",
      "\n",
      "    accuracy                           0.77        65\n",
      "   macro avg       0.75      0.75      0.73        65\n",
      "weighted avg       0.77      0.77      0.76        65\n",
      "\n"
     ]
    }
   ],
   "source": [
    "# Step 3-4-5. Split and getting metrics\n",
    "from sklearn.ensemble import RandomForestClassifier\n",
    "from sklearn.model_selection import train_test_split\n",
    "from sklearn.metrics import classification_report\n",
    "\n",
    "\n",
    "def get_score(X, y, model=None):\n",
    "    print(f'Deleted share: {1- len(X)/214}')\n",
    "    \n",
    "    if model==None:\n",
    "        model = RandomForestClassifier()\n",
    "        \n",
    "    X_train, X_test, y_train, y_test = train_test_split(X, y, test_size=0.3, random_state=42)\n",
    "    \n",
    "    model.fit(X_train, y_train)\n",
    "    print(classification_report(np.array(y_test), model.predict(X_test)))\n",
    "    \n",
    "get_score(df.drop(columns=['Type']), df.Type)"
   ]
  },
  {
   "cell_type": "markdown",
   "id": "4f473a75",
   "metadata": {
    "pycharm": {
     "name": "#%% md\n"
    }
   },
   "source": [
    "<b>Step 6. Histograms</b>"
   ]
  },
  {
   "cell_type": "code",
   "execution_count": 6,
   "id": "7699365b",
   "metadata": {
    "pycharm": {
     "name": "#%%\n"
    }
   },
   "outputs": [
    {
     "data": {
      "image/png": "[encoded data removed]",
      "text/plain": [
       "<Figure size 432x288 with 1 Axes>"
      ]
     },
     "metadata": {
      "needs_background": "light"
     },
     "output_type": "display_data"
    }
   ],
   "source": [
    "g = sns.histplot(data=df, x=\"RI\") # df.RI < 1525"
   ]
  },
  {
   "cell_type": "code",
   "execution_count": 7,
   "id": "f0d4b2eb",
   "metadata": {
    "pycharm": {
     "name": "#%%\n"
    }
   },
   "outputs": [
    {
     "data": {
      "text/plain": [
       "<AxesSubplot:xlabel='Na', ylabel='Count'>"
      ]
     },
     "execution_count": 7,
     "metadata": {},
     "output_type": "execute_result"
    },
    {
     "data": {
      "image/png": "[encoded data removed]",
      "text/plain": [
       "<Figure size 432x288 with 1 Axes>"
      ]
     },
     "metadata": {
      "needs_background": "light"
     },
     "output_type": "display_data"
    }
   ],
   "source": [
    "sns.histplot(data=df, x=\"Na\") # df.Na < 15.5"
   ]
  },
  {
   "cell_type": "code",
   "execution_count": 8,
   "id": "c143a576",
   "metadata": {
    "pycharm": {
     "name": "#%%\n"
    }
   },
   "outputs": [
    {
     "data": {
      "text/plain": [
       "<AxesSubplot:xlabel='Mg', ylabel='Count'>"
      ]
     },
     "execution_count": 8,
     "metadata": {},
     "output_type": "execute_result"
    },
    {
     "data": {
      "image/png": "[encoded data removed]",
      "text/plain": [
       "<Figure size 432x288 with 1 Axes>"
      ]
     },
     "metadata": {
      "needs_background": "light"
     },
     "output_type": "display_data"
    }
   ],
   "source": [
    "sns.histplot(data=df, x=\"Mg\") # df.Mg -> log"
   ]
  },
  {
   "cell_type": "code",
   "execution_count": 9,
   "id": "c93d2b6a",
   "metadata": {
    "pycharm": {
     "name": "#%%\n"
    }
   },
   "outputs": [
    {
     "data": {
      "text/plain": [
       "<AxesSubplot:xlabel='Al', ylabel='Count'>"
      ]
     },
     "execution_count": 9,
     "metadata": {},
     "output_type": "execute_result"
    },
    {
     "data": {
      "image/png": "[encoded data removed]",
      "text/plain": [
       "<Figure size 432x288 with 1 Axes>"
      ]
     },
     "metadata": {
      "needs_background": "light"
     },
     "output_type": "display_data"
    }
   ],
   "source": [
    "sns.histplot(data=df, x=\"Al\") # df.Al < 3.2"
   ]
  },
  {
   "cell_type": "code",
   "execution_count": 10,
   "id": "ddb6ed99",
   "metadata": {
    "pycharm": {
     "name": "#%%\n"
    }
   },
   "outputs": [
    {
     "data": {
      "text/plain": [
       "<AxesSubplot:xlabel='Si', ylabel='Count'>"
      ]
     },
     "execution_count": 10,
     "metadata": {},
     "output_type": "execute_result"
    },
    {
     "data": {
      "image/png": "[encoded data removed]",
      "text/plain": [
       "<Figure size 432x288 with 1 Axes>"
      ]
     },
     "metadata": {
      "needs_background": "light"
     },
     "output_type": "display_data"
    }
   ],
   "source": [
    "sns.histplot(data=df, x=\"Si\") # (df.Si >71) & (df.Si < 74)"
   ]
  },
  {
   "cell_type": "code",
   "execution_count": 11,
   "id": "c75ae6c5",
   "metadata": {
    "pycharm": {
     "name": "#%%\n"
    }
   },
   "outputs": [
    {
     "data": {
      "text/plain": [
       "<AxesSubplot:xlabel='K', ylabel='Count'>"
      ]
     },
     "execution_count": 11,
     "metadata": {},
     "output_type": "execute_result"
    },
    {
     "data": {
      "image/png": "[encoded data removed]",
      "text/plain": [
       "<Figure size 432x288 with 1 Axes>"
      ]
     },
     "metadata": {
      "needs_background": "light"
     },
     "output_type": "display_data"
    }
   ],
   "source": [
    "sns.histplot(data=df, x=\"K\") # df.K -> log"
   ]
  },
  {
   "cell_type": "code",
   "execution_count": 12,
   "id": "0185bd9d",
   "metadata": {
    "pycharm": {
     "name": "#%%\n"
    }
   },
   "outputs": [
    {
     "data": {
      "text/plain": [
       "<AxesSubplot:xlabel='Ca', ylabel='Count'>"
      ]
     },
     "execution_count": 12,
     "metadata": {},
     "output_type": "execute_result"
    },
    {
     "data": {
      "image/png": "[encoded data removed]",
      "text/plain": [
       "<Figure size 432x288 with 1 Axes>"
      ]
     },
     "metadata": {
      "needs_background": "light"
     },
     "output_type": "display_data"
    }
   ],
   "source": [
    "sns.histplot(data=df, x=\"Ca\") # (df.Ca < 12) & (df.Ca > 6)"
   ]
  },
  {
   "cell_type": "code",
   "execution_count": 13,
   "id": "cdbc996a",
   "metadata": {
    "pycharm": {
     "name": "#%%\n"
    }
   },
   "outputs": [
    {
     "data": {
      "text/plain": [
       "<AxesSubplot:xlabel='Ba', ylabel='Count'>"
      ]
     },
     "execution_count": 13,
     "metadata": {},
     "output_type": "execute_result"
    },
    {
     "data": {
      "image/png": "[encoded data removed]",
      "text/plain": [
       "<Figure size 432x288 with 1 Axes>"
      ]
     },
     "metadata": {
      "needs_background": "light"
     },
     "output_type": "display_data"
    }
   ],
   "source": [
    "sns.histplot(data=df, x=\"Ba\") # > df.Ba -> log"
   ]
  },
  {
   "cell_type": "code",
   "execution_count": 14,
   "id": "cee534d2",
   "metadata": {
    "pycharm": {
     "name": "#%%\n"
    }
   },
   "outputs": [
    {
     "data": {
      "text/plain": [
       "<AxesSubplot:xlabel='Fe', ylabel='Count'>"
      ]
     },
     "execution_count": 14,
     "metadata": {},
     "output_type": "execute_result"
    },
    {
     "data": {
      "image/png": "[encoded data removed]",
      "text/plain": [
       "<Figure size 432x288 with 1 Axes>"
      ]
     },
     "metadata": {
      "needs_background": "light"
     },
     "output_type": "display_data"
    }
   ],
   "source": [
    "sns.histplot(data=df, x=\"Fe\") # > df.Fe -> log"
   ]
  },
  {
   "cell_type": "code",
   "execution_count": 15,
   "id": "058e1f9d",
   "metadata": {
    "pycharm": {
     "name": "#%%\n"
    }
   },
   "outputs": [
    {
     "name": "stdout",
     "output_type": "stream",
     "text": [
      "Deleted share: 0.09813084112149528\n",
      "              precision    recall  f1-score   support\n",
      "\n",
      "           1       0.79      0.83      0.81        23\n",
      "           2       0.76      0.76      0.76        17\n",
      "           3       0.29      0.33      0.31         6\n",
      "           5       1.00      0.80      0.89         5\n",
      "           6       1.00      0.75      0.86         4\n",
      "           7       1.00      1.00      1.00         3\n",
      "\n",
      "    accuracy                           0.76        58\n",
      "   macro avg       0.81      0.75      0.77        58\n",
      "weighted avg       0.77      0.76      0.76        58\n",
      "\n"
     ]
    }
   ],
   "source": [
    "# Delete emissions \n",
    "df_without_emissions = df.copy()\n",
    "df_without_emissions = df_without_emissions[df.RI < 1525]\n",
    "df_without_emissions = df_without_emissions[df.Na < 15.5]\n",
    "df_without_emissions = df_without_emissions[df.Al < 3.2]\n",
    "df_without_emissions = df_without_emissions[(df.Si > 71) & (df.Si < 74)]\n",
    "df_without_emissions = df_without_emissions[(df.Ca < 12) & (df.Ca > 6)]\n",
    "\n",
    "get_score(df_without_emissions.drop(columns=['Type']), df_without_emissions.Type)"
   ]
  },
  {
   "cell_type": "code",
   "execution_count": 16,
   "id": "8149c41c",
   "metadata": {
    "pycharm": {
     "name": "#%%\n"
    }
   },
   "outputs": [
    {
     "name": "stdout",
     "output_type": "stream",
     "text": [
      "Deleted share: 0.09813084112149528\n",
      "              precision    recall  f1-score   support\n",
      "\n",
      "           1       0.80      0.87      0.83        23\n",
      "           2       0.78      0.82      0.80        17\n",
      "           3       0.40      0.33      0.36         6\n",
      "           5       1.00      0.60      0.75         5\n",
      "           6       1.00      1.00      1.00         4\n",
      "           7       1.00      1.00      1.00         3\n",
      "\n",
      "    accuracy                           0.79        58\n",
      "   macro avg       0.83      0.77      0.79        58\n",
      "weighted avg       0.79      0.79      0.79        58\n",
      "\n"
     ]
    }
   ],
   "source": [
    "# Log features\n",
    "df_without_emissions.Mg = np.log(df_without_emissions.Mg)\n",
    "df_without_emissions.K = np.log(df_without_emissions.K)\n",
    "df_without_emissions.Ba = np.log(df_without_emissions.Ba)\n",
    "df_without_emissions.Fe = np.log(df_without_emissions.Fe)\n",
    "df_without_emissions.replace([np.inf, -np.inf], -999, inplace=True)\n",
    "get_score(df_without_emissions.drop(columns=['Type']), df_without_emissions.Type)"
   ]
  },
  {
   "cell_type": "markdown",
   "id": "3068fc6e",
   "metadata": {
    "pycharm": {
     "name": "#%% md\n"
    }
   },
   "source": [
    "Удаление выбросов по гистограммам и логарифмирование фичей не привело к приросту точности предсказания метки класса."
   ]
  },
  {
   "cell_type": "code",
   "execution_count": 17,
   "id": "379e5f5e",
   "metadata": {
    "pycharm": {
     "name": "#%%\n"
    }
   },
   "outputs": [
    {
     "name": "stdout",
     "output_type": "stream",
     "text": [
      "\n",
      "___OneClassSVM(nu=0.01)\n",
      "Deleted share: 0.009345794392523366\n",
      "              precision    recall  f1-score   support\n",
      "\n",
      "           1       0.78      0.95      0.86        19\n",
      "           2       0.79      0.79      0.79        24\n",
      "           3       0.80      0.80      0.80         5\n",
      "           5       1.00      0.25      0.40         4\n",
      "           6       1.00      0.67      0.80         3\n",
      "           7       0.89      0.89      0.89         9\n",
      "\n",
      "    accuracy                           0.81        64\n",
      "   macro avg       0.88      0.72      0.76        64\n",
      "weighted avg       0.83      0.81      0.80        64\n",
      "\n",
      "\n",
      "___IsolationForest()\n",
      "Deleted share: 0.12616822429906538\n",
      "              precision    recall  f1-score   support\n",
      "\n",
      "           1       0.75      0.75      0.75        24\n",
      "           2       0.50      0.73      0.59        15\n",
      "           3       0.50      0.17      0.25         6\n",
      "           5       1.00      0.50      0.67         4\n",
      "           6       1.00      1.00      1.00         3\n",
      "           7       1.00      0.80      0.89         5\n",
      "\n",
      "    accuracy                           0.68        57\n",
      "   macro avg       0.79      0.66      0.69        57\n",
      "weighted avg       0.71      0.68      0.68        57\n",
      "\n",
      "\n",
      "___EllipticEnvelope(contamination=0.03)\n",
      "Deleted share: 0.032710280373831724\n",
      "              precision    recall  f1-score   support\n",
      "\n",
      "           1       0.75      0.90      0.82        20\n",
      "           2       0.86      0.82      0.84        22\n",
      "           3       0.75      0.50      0.60         6\n",
      "           5       0.80      0.80      0.80         5\n",
      "           6       1.00      1.00      1.00         2\n",
      "           7       1.00      0.88      0.93         8\n",
      "\n",
      "    accuracy                           0.83        63\n",
      "   macro avg       0.86      0.82      0.83        63\n",
      "weighted avg       0.83      0.83      0.82        63\n",
      "\n",
      "\n",
      "___LocalOutlierFactor(novelty=True)\n",
      "Deleted share: 0.1448598130841121\n",
      "              precision    recall  f1-score   support\n",
      "\n",
      "           1       0.77      0.77      0.77        22\n",
      "           2       0.75      0.71      0.73        21\n",
      "           3       0.00      0.00      0.00         2\n",
      "           5       1.00      0.75      0.86         4\n",
      "           6       0.67      1.00      0.80         2\n",
      "           7       0.80      1.00      0.89         4\n",
      "\n",
      "    accuracy                           0.75        55\n",
      "   macro avg       0.66      0.71      0.68        55\n",
      "weighted avg       0.75      0.75      0.74        55\n",
      "\n"
     ]
    }
   ],
   "source": [
    "# Применение методов машинного обучения\n",
    "from sklearn.svm import OneClassSVM\n",
    "from sklearn.ensemble import IsolationForest\n",
    "from sklearn.covariance import EllipticEnvelope\n",
    "from sklearn.neighbors import LocalOutlierFactor\n",
    "\n",
    "\n",
    "def get_score_without_emissions(df, search_emissions=None):\n",
    "    \n",
    "    if search_emissions==None:\n",
    "        search_emissions = [\n",
    "            OneClassSVM(nu=0.01), \n",
    "            IsolationForest(), \n",
    "            EllipticEnvelope(contamination=0.03), \n",
    "            LocalOutlierFactor(novelty=True)\n",
    "        ]\n",
    "    \n",
    "    for model in search_emissions:\n",
    "        print('\\n___' + str(model))\n",
    "        df_iter = df.copy()\n",
    "        df_iter['emission'] = model.fit(df_iter).predict(df_iter)\n",
    "        get_score(df_iter[df_iter.emission == 1].drop(columns=['Type', 'emission']), df_iter[df_iter.emission == 1].Type)\n",
    " \n",
    "\n",
    "get_score_without_emissions(df)"
   ]
  },
  {
   "cell_type": "code",
   "execution_count": 18,
   "id": "fb586b04",
   "metadata": {
    "pycharm": {
     "name": "#%%\n"
    }
   },
   "outputs": [
    {
     "name": "stdout",
     "output_type": "stream",
     "text": [
      "Deleted share: 0.14018691588785048\n",
      "              precision    recall  f1-score   support\n",
      "\n",
      "           1       0.86      0.72      0.78        25\n",
      "           2       0.67      0.94      0.78        17\n",
      "           3       0.67      0.33      0.44         6\n",
      "           5       1.00      1.00      1.00         1\n",
      "           6       1.00      1.00      1.00         2\n",
      "           7       1.00      1.00      1.00         5\n",
      "\n",
      "    accuracy                           0.79        56\n",
      "   macro avg       0.87      0.83      0.83        56\n",
      "weighted avg       0.80      0.79      0.78        56\n",
      "\n"
     ]
    }
   ],
   "source": [
    "# DBSCAN\n",
    "from sklearn.cluster import DBSCAN\n",
    "\n",
    "df_iter = df.copy()\n",
    "\n",
    "db = DBSCAN(eps=0.95, min_samples=2).fit(df_iter)\n",
    "df_iter['emission'] = db.labels_\n",
    "\n",
    "get_score(df_iter[df_iter.emission != -1].drop(columns=['Type', 'emission']), df_iter[df_iter.emission != -1].Type)"
   ]
  },
  {
   "cell_type": "markdown",
   "id": "dfcbee8b",
   "metadata": {
    "pycharm": {
     "name": "#%% md\n"
    }
   },
   "source": [
    "|                      | accuracy | deleted share |\n",
    "|----------------------|----------|---------------|\n",
    "|Без преобразований    |   0.77   |       0%      |\n",
    "|Статистический метод  |   0.76   |       10%     |\n",
    "|Логарифмирование      |   0.79   |       -       |\n",
    "|OneClassSVM           |   0.81   |       1%      |\n",
    "|IsolationForest       |   0.68   |       12%     |\n",
    "|EllipticEnvelope      |   0.83   |       3%      |\n",
    "|LocalOutlierFactor    |   0.75   |       14%     |\n",
    "|DBSCAN                |   0.79   |       14%     |\n",
    "\n",
    "<b>Выводы:<b>\n",
    "- избавление от выбросов статистическим (или почти ручным) методом привело к ухудшению качества модели.\n",
    "- методы машинного обучения показали прирост в несколько процентов (4%, 6% и 2% для методов OneClassSVM, EllipticEnvelope и DBSCAN соответсвенно)\n",
    "- исследовать данные на выбросы целесообразно и полезно, т.к. модель при обучении не отвлекается на исключительные случаи, что приводит к улучшению ее качества."
   ]
  },
  {
   "cell_type": "code",
   "execution_count": null,
   "id": "3469c37b",
   "metadata": {
    "pycharm": {
     "name": "#%%\n"
    }
   },
   "outputs": [],
   "source": []
  }
 ],
 "metadata": {
  "kernelspec": {
   "display_name": "Python 3 (ipykernel)",
   "language": "python",
   "name": "python3"
  },
  "language_info": {
   "codemirror_mode": {
    "name": "ipython",
    "version": 3
   },
   "file_extension": ".py",
   "mimetype": "text/x-python",
   "name": "python",
   "nbconvert_exporter": "python",
   "pygments_lexer": "ipython3",
   "version": "3.9.7"
  }
 },
 "nbformat": 4,
 "nbformat_minor": 5
}