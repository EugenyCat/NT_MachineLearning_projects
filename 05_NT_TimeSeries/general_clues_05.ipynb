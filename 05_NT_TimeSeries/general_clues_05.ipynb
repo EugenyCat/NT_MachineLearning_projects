{
 "cells": [
  {
   "cell_type": "markdown",
   "id": "c549edb0-b837-4d04-8bc1-284ad6d52bd3",
   "metadata": {},
   "source": [
    "# 1. Box Cox and Derivation\n",
    "# 2. Test Dickey-Fuller\n",
    "# 3. Autocorrelation plot\n",
    "# 4.\n",
    "# 5.\n",
    "# 6.\n",
    "# 7.\n",
    "# 8.\n",
    "# 9.\n",
    "# 10.\n",
    "# 11.\n",
    "# 12.\n",
    "# 13.\n",
    "# 14.\n",
    "# 15."
   ]
  },
  {
   "cell_type": "markdown",
   "id": "3a09e1d0-34eb-48ec-abeb-bb64e30f1bd0",
   "metadata": {},
   "source": [
    "# 1. Box Cox and Derivation (for getting a stationary time series)"
   ]
  },
  {
   "cell_type": "code",
   "execution_count": null,
   "id": "daa08909-8a39-4795-a12f-01a76606a6a2",
   "metadata": {},
   "outputs": [],
   "source": [
    "# 1. Box Cox Преобразование Бокса-Кокса часто применяется для нормализации данных или для стабилизации дисперсии\n",
    "from scipy.stats import boxcox  \n",
    "from scipy.special import inv_boxcox # для обратного преобразования\n",
    "\n",
    "all_series = {\n",
    "    \"Monthly sales of company X\": sales_of_company_x[\"Count\"],\n",
    "    \"International airline passengers: monthly totals in thousands\": airlines_passengers[\"Count\"]\n",
    "}\n",
    "\n",
    "# boxcox(x, lmbda=None, alpha=None)  lmbda (необязательный)  - степень трансформации;  alpha: (необязательный) уровень значимости для доверительного интервала lmbda. \n",
    "series = boxcox(\n",
    "    x=all_series[\"International airline passengers: monthly totals in thousands\"], \n",
    "    lmbda=0,\n",
    "    alpha=None\n",
    ")\n",
    "\n",
    "\n",
    "inv = inv_boxcox(series, lmbda=0)"
   ]
  },
  {
   "cell_type": "code",
   "execution_count": null,
   "id": "fe0d68ad-cb01-4775-8d96-d2b945acbfb5",
   "metadata": {},
   "outputs": [],
   "source": [
    "# 2. Derivation\n",
    "import numpy as np \n",
    "\n",
    "# np.diff для вычисления разностей между элементами массива вдоль указанной оси. \n",
    "# для анализа временных рядов, вычисления производных или обнаружения изменений между последовательными значениями.\n",
    "# np.diff(a, n=1, axis=-1) n: (по умолчанию 1) количество разностей, которые нужно вычислить. Например, n=2 вернет разности второго порядка.\n",
    "# axis: (по умолчанию -1) ось, вдоль которой вычисляются разности.\n",
    "series = np.diff(series, 1)\n",
    "\n",
    "\n",
    "# or \n",
    "series = series[1:] - series[:-1]\n",
    "# or\n",
    "series = series[12:] - series[:-12]\n",
    "\n"
   ]
  },
  {
   "cell_type": "markdown",
   "id": "b94800ef-8d9d-4483-bfc9-7d91e647374d",
   "metadata": {},
   "source": [
    "# 2. Test Dickey-Fuller (to test if the time series is stationary)"
   ]
  },
  {
   "cell_type": "code",
   "execution_count": null,
   "id": "598e88f4-ede1-45c6-9572-781b3f76072d",
   "metadata": {},
   "outputs": [],
   "source": [
    "from statsmodels.tsa.stattools import adfuller\n",
    "\n",
    "adfuller(x, maxlag=None, regression='c', autolag='AIC', store=False, regresults=False)\n",
    "# x: список, массив NumPy или серия pandas с временным рядом.\n",
    "# maxlag: максимальное количество лагов\n",
    "# regression: тип регрессии: тут 'c' для включения константы но есть и много других напр., 'ctt' для включения константы, линейного и квадратичного трендов,\n",
    "# autolag: метод автоматического выбора лагов, тут 'AIC' для критерия Акаике\n",
    "# store: если True, возвращает дополнительные результаты в виде класса с атрибутами.\n",
    "# regresults: если True, сохраняет результаты промежуточной регрессии.\n",
    "\n",
    "\n",
    "dftest = adfuller(timeseries, autolag='AIC')\n",
    "\n",
    "\n",
    "# example of method\n",
    "################\n",
    " # Dickey-Fuller\n",
    "##################\n",
    "def test_stationarity(timeseries):\n",
    "    print('Results of Dickey-Fuller Test:')\n",
    "    dftest = adfuller(timeseries, autolag='AIC')\n",
    "    dfoutput = pd.Series(dftest[0:4], index=['Test Statistic', 'p-value', '#Lags Used', 'Number of Observations Used'])\n",
    "    for [key, value] in dftest[4].items():\n",
    "        dfoutput['Critical Value (%s)' % key] = value\n",
    "    print(dfoutput)\n",
    "\n",
    "# call method\n",
    "test_stationarity(all_series[\"International airline passengers: monthly totals in thousands\"])"
   ]
  },
  {
   "cell_type": "code",
   "execution_count": null,
   "id": "c62f7241-8564-482a-b840-9b73e1b4a90c",
   "metadata": {},
   "outputs": [],
   "source": [
    "# !! HELPER METHOD for defining the seasonality SEASONALITY\n",
    "def plot_ts_and_points(ts, start_point, step):\n",
    "    new_series = [None for i in range(len(ts))]\n",
    "    for i in range(len(ts)):\n",
    "        pos = start_point + step * i\n",
    "        if pos >= len(ts):\n",
    "            break\n",
    "        new_series[pos] = ts[pos]\n",
    "    new_series = pd.Series(new_series)\n",
    "    \n",
    "    with plt.style.context('bmh'):\n",
    "        plt.figure(figsize=(16, 8))\n",
    "        ts_ax = plt.axes()\n",
    "        ts.plot(ax=ts_ax, color='blue')\n",
    "        new_series.plot(ax=ts_ax, style='ro')"
   ]
  },
  {
   "cell_type": "markdown",
   "id": "b53390f3-697e-4849-8647-ea1ca6bd7b99",
   "metadata": {},
   "source": [
    "# 3. Autocorrelation plot"
   ]
  },
  {
   "cell_type": "code",
   "execution_count": null,
   "id": "940b3a32-e397-4b78-9a0f-512e1c91f098",
   "metadata": {},
   "outputs": [],
   "source": [
    "import statsmodels.api as sm\n",
    "import statsmodels.tsa.api as smt\n",
    "\n",
    "# statsmodels.api предоставляет высокоуровневый доступ ко всем функциям библиотеки statsmodels. Обычно используется для общей статистики и моделирования.\n",
    "# statsmodels.tsa.api предоставляет доступ к функциям и классам, специфичным для анализа временных рядов. \n",
    "# Это включает в себя модели ARIMA, тесты на стационарность, функции для построения автокорреляционных графиков и многое другое.\n",
    "\n",
    "# plot_acf - Автокорреляционная функция - идентифицирует зависимость значений временного ряда на разных лагах.\n",
    "smt.graphics.plot_acf(y, lags=lags, ax=acf_ax, alpha=0.05)\n",
    "\n",
    "# plot_pacf - Частичная автокорреляционная функция - показывает корреляцию значений временного ряда с лагами, устранение влияния промежуточных лагах.\n",
    "smt.graphics.plot_pacf(y, lags=lags, ax=pacf_ax, alpha=0.05)\n",
    "\n",
    "\n",
    "#  метод для построения коррелорграммы \n",
    "def tsplot(y, lags=None, figsize=(14, 8), style='bmh'):\n",
    "    if not isinstance(y, pd.Series):\n",
    "        y = pd.Series(y)\n",
    "    with plt.style.context(style):\n",
    "        plt.figure(figsize=figsize)\n",
    "        layout = (4, 1)\n",
    "        ts_ax = plt.subplot2grid(layout, (0, 0), rowspan=2)\n",
    "        acf_ax = plt.subplot2grid(layout, (2, 0))\n",
    "        pacf_ax = plt.subplot2grid(layout, (3, 0))\n",
    "\n",
    "        y.plot(ax=ts_ax, color='blue', label='Or')\n",
    "        ts_ax.set_title('Original')\n",
    "\n",
    "        smt.graphics.plot_acf(y, lags=lags, ax=acf_ax, alpha=0.05)\n",
    "        smt.graphics.plot_pacf(y, lags=lags, ax=pacf_ax, alpha=0.05)\n",
    "\n",
    "        plt.tight_layout()\n",
    "    return\n",
    "\n",
    "\n",
    "tsplot(all_series[\"International airline passengers: monthly totals in thousands\"])"
   ]
  },
  {
   "cell_type": "code",
   "execution_count": null,
   "id": "c6a59037-fee1-457f-aee0-c75f521f7848",
   "metadata": {},
   "outputs": [],
   "source": []
  }
 ],
 "metadata": {
  "kernelspec": {
   "display_name": "Python 3 (ipykernel)",
   "language": "python",
   "name": "python3"
  },
  "language_info": {
   "codemirror_mode": {
    "name": "ipython",
    "version": 3
   },
   "file_extension": ".py",
   "mimetype": "text/x-python",
   "name": "python",
   "nbconvert_exporter": "python",
   "pygments_lexer": "ipython3",
   "version": "3.9.15"
  }
 },
 "nbformat": 4,
 "nbformat_minor": 5
}
