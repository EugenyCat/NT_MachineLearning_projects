{
 "cells": [
  {
   "cell_type": "markdown",
   "id": "99c03002",
   "metadata": {
    "pycharm": {
     "name": "#%% md\n"
    }
   },
   "source": [
    "<b>Task:</b>\n",
    "- Case 1. Transforming data: encode categorical features, delete empties cells.\n",
    "- Case 2. Split a prepared dataset to a train and a test subsets.\n",
    "- Case 3. Construct a ROC Curve using SKLearn.\n",
    "- Case 4. Determine a ROC AUC Score (Area under curve) using SKLearn.\n",
    "- Case 5. Write own fucntions that calculate scores such TPR, FPR.\n",
    "- Case 6. Using functions from Case 5 to construct a ROC Curve.\n",
    "- Case 7. Construct a graphic Precision-Recall.\n",
    "- Case 8. Write a function that determines a  ROC AUC Score."
   ]
  },
  {
   "cell_type": "code",
   "execution_count": 70,
   "id": "e32d63f0",
   "metadata": {
    "pycharm": {
     "name": "#%%\n"
    }
   },
   "outputs": [],
   "source": [
    "import pandas as pd\n",
    "import numpy as np\n",
    "import matplotlib.pyplot as plt\n",
    "\n",
    "import warnings\n",
    "warnings.filterwarnings('ignore')"
   ]
  },
  {
   "cell_type": "code",
   "execution_count": 71,
   "id": "d66140c0",
   "metadata": {
    "pycharm": {
     "name": "#%%\n"
    }
   },
   "outputs": [
    {
     "name": "stdout",
     "output_type": "stream",
     "text": [
      "<class 'pandas.core.frame.DataFrame'>\n",
      "RangeIndex: 11538 entries, 0 to 11537\n",
      "Data columns (total 11 columns):\n",
      " #   Column       Non-Null Count  Dtype  \n",
      "---  ------       --------------  -----  \n",
      " 0   id           11538 non-null  int64  \n",
      " 1   name         11538 non-null  object \n",
      " 2   nationality  11538 non-null  object \n",
      " 3   sex          11538 non-null  object \n",
      " 4   dob          11537 non-null  object \n",
      " 5   height       11208 non-null  float64\n",
      " 6   weight       10879 non-null  float64\n",
      " 7   sport        11538 non-null  object \n",
      " 8   gold         11538 non-null  int64  \n",
      " 9   silver       11538 non-null  int64  \n",
      " 10  bronze       11538 non-null  int64  \n",
      "dtypes: float64(2), int64(4), object(5)\n",
      "memory usage: 991.7+ KB\n"
     ]
    }
   ],
   "source": [
    "df = pd.read_csv('datasets_features/athletes.csv')\n",
    "df.info()"
   ]
  },
  {
   "cell_type": "code",
   "execution_count": 72,
   "id": "6dbeeb3c",
   "metadata": {
    "pycharm": {
     "name": "#%%\n"
    }
   },
   "outputs": [
    {
     "name": "stdout",
     "output_type": "stream",
     "text": [
      "<class 'pandas.core.frame.DataFrame'>\n",
      "Int64Index: 10858 entries, 0 to 11537\n",
      "Data columns (total 11 columns):\n",
      " #   Column       Non-Null Count  Dtype  \n",
      "---  ------       --------------  -----  \n",
      " 0   id           10858 non-null  int64  \n",
      " 1   name         10858 non-null  object \n",
      " 2   nationality  10858 non-null  object \n",
      " 3   sex          10858 non-null  object \n",
      " 4   dob          10858 non-null  object \n",
      " 5   height       10858 non-null  float64\n",
      " 6   weight       10858 non-null  float64\n",
      " 7   sport        10858 non-null  object \n",
      " 8   gold         10858 non-null  int64  \n",
      " 9   silver       10858 non-null  int64  \n",
      " 10  bronze       10858 non-null  int64  \n",
      "dtypes: float64(2), int64(4), object(5)\n",
      "memory usage: 1017.9+ KB\n"
     ]
    }
   ],
   "source": [
    "# Case 1. drop empty\n",
    "df = df[~(df['height'].isna())]\n",
    "df = df[~(df['weight'].isna())]\n",
    "df.info()"
   ]
  },
  {
   "cell_type": "code",
   "execution_count": 73,
   "id": "97e0b4db",
   "metadata": {
    "pycharm": {
     "name": "#%%\n"
    }
   },
   "outputs": [
    {
     "data": {
      "text/html": [
       "<div>\n",
       "<style scoped>\n",
       "    .dataframe tbody tr th:only-of-type {\n",
       "        vertical-align: middle;\n",
       "    }\n",
       "\n",
       "    .dataframe tbody tr th {\n",
       "        vertical-align: top;\n",
       "    }\n",
       "\n",
       "    .dataframe thead th {\n",
       "        text-align: right;\n",
       "    }\n",
       "</style>\n",
       "<table border=\"1\" class=\"dataframe\">\n",
       "  <thead>\n",
       "    <tr style=\"text-align: right;\">\n",
       "      <th></th>\n",
       "      <th>id</th>\n",
       "      <th>name</th>\n",
       "      <th>sex</th>\n",
       "      <th>dob</th>\n",
       "      <th>height</th>\n",
       "      <th>weight</th>\n",
       "      <th>gold</th>\n",
       "      <th>silver</th>\n",
       "      <th>bronze</th>\n",
       "      <th>gender num</th>\n",
       "      <th>...</th>\n",
       "      <th>sport_rugby sevens</th>\n",
       "      <th>sport_sailing</th>\n",
       "      <th>sport_shooting</th>\n",
       "      <th>sport_table tennis</th>\n",
       "      <th>sport_taekwondo</th>\n",
       "      <th>sport_tennis</th>\n",
       "      <th>sport_triathlon</th>\n",
       "      <th>sport_volleyball</th>\n",
       "      <th>sport_weightlifting</th>\n",
       "      <th>sport_wrestling</th>\n",
       "    </tr>\n",
       "  </thead>\n",
       "  <tbody>\n",
       "    <tr>\n",
       "      <th>0</th>\n",
       "      <td>736041664</td>\n",
       "      <td>A Jesus Garcia</td>\n",
       "      <td>male</td>\n",
       "      <td>10/17/69</td>\n",
       "      <td>1.72</td>\n",
       "      <td>64.0</td>\n",
       "      <td>0</td>\n",
       "      <td>0</td>\n",
       "      <td>0</td>\n",
       "      <td>1</td>\n",
       "      <td>...</td>\n",
       "      <td>0</td>\n",
       "      <td>0</td>\n",
       "      <td>0</td>\n",
       "      <td>0</td>\n",
       "      <td>0</td>\n",
       "      <td>0</td>\n",
       "      <td>0</td>\n",
       "      <td>0</td>\n",
       "      <td>0</td>\n",
       "      <td>0</td>\n",
       "    </tr>\n",
       "    <tr>\n",
       "      <th>1</th>\n",
       "      <td>532037425</td>\n",
       "      <td>A Lam Shin</td>\n",
       "      <td>female</td>\n",
       "      <td>9/23/86</td>\n",
       "      <td>1.68</td>\n",
       "      <td>56.0</td>\n",
       "      <td>0</td>\n",
       "      <td>0</td>\n",
       "      <td>0</td>\n",
       "      <td>0</td>\n",
       "      <td>...</td>\n",
       "      <td>0</td>\n",
       "      <td>0</td>\n",
       "      <td>0</td>\n",
       "      <td>0</td>\n",
       "      <td>0</td>\n",
       "      <td>0</td>\n",
       "      <td>0</td>\n",
       "      <td>0</td>\n",
       "      <td>0</td>\n",
       "      <td>0</td>\n",
       "    </tr>\n",
       "    <tr>\n",
       "      <th>2</th>\n",
       "      <td>435962603</td>\n",
       "      <td>Aaron Brown</td>\n",
       "      <td>male</td>\n",
       "      <td>5/27/92</td>\n",
       "      <td>1.98</td>\n",
       "      <td>79.0</td>\n",
       "      <td>0</td>\n",
       "      <td>0</td>\n",
       "      <td>1</td>\n",
       "      <td>1</td>\n",
       "      <td>...</td>\n",
       "      <td>0</td>\n",
       "      <td>0</td>\n",
       "      <td>0</td>\n",
       "      <td>0</td>\n",
       "      <td>0</td>\n",
       "      <td>0</td>\n",
       "      <td>0</td>\n",
       "      <td>0</td>\n",
       "      <td>0</td>\n",
       "      <td>0</td>\n",
       "    </tr>\n",
       "    <tr>\n",
       "      <th>3</th>\n",
       "      <td>521041435</td>\n",
       "      <td>Aaron Cook</td>\n",
       "      <td>male</td>\n",
       "      <td>1/2/91</td>\n",
       "      <td>1.83</td>\n",
       "      <td>80.0</td>\n",
       "      <td>0</td>\n",
       "      <td>0</td>\n",
       "      <td>0</td>\n",
       "      <td>1</td>\n",
       "      <td>...</td>\n",
       "      <td>0</td>\n",
       "      <td>0</td>\n",
       "      <td>0</td>\n",
       "      <td>0</td>\n",
       "      <td>1</td>\n",
       "      <td>0</td>\n",
       "      <td>0</td>\n",
       "      <td>0</td>\n",
       "      <td>0</td>\n",
       "      <td>0</td>\n",
       "    </tr>\n",
       "    <tr>\n",
       "      <th>4</th>\n",
       "      <td>33922579</td>\n",
       "      <td>Aaron Gate</td>\n",
       "      <td>male</td>\n",
       "      <td>11/26/90</td>\n",
       "      <td>1.81</td>\n",
       "      <td>71.0</td>\n",
       "      <td>0</td>\n",
       "      <td>0</td>\n",
       "      <td>0</td>\n",
       "      <td>1</td>\n",
       "      <td>...</td>\n",
       "      <td>0</td>\n",
       "      <td>0</td>\n",
       "      <td>0</td>\n",
       "      <td>0</td>\n",
       "      <td>0</td>\n",
       "      <td>0</td>\n",
       "      <td>0</td>\n",
       "      <td>0</td>\n",
       "      <td>0</td>\n",
       "      <td>0</td>\n",
       "    </tr>\n",
       "  </tbody>\n",
       "</table>\n",
       "<p>5 rows × 237 columns</p>\n",
       "</div>"
      ],
      "text/plain": [
       "          id            name     sex       dob  height  weight  gold  silver  \\\n",
       "0  736041664  A Jesus Garcia    male  10/17/69    1.72    64.0     0       0   \n",
       "1  532037425      A Lam Shin  female   9/23/86    1.68    56.0     0       0   \n",
       "2  435962603     Aaron Brown    male   5/27/92    1.98    79.0     0       0   \n",
       "3  521041435      Aaron Cook    male    1/2/91    1.83    80.0     0       0   \n",
       "4   33922579      Aaron Gate    male  11/26/90    1.81    71.0     0       0   \n",
       "\n",
       "   bronze  gender num  ...  sport_rugby sevens  sport_sailing  sport_shooting  \\\n",
       "0       0           1  ...                   0              0               0   \n",
       "1       0           0  ...                   0              0               0   \n",
       "2       1           1  ...                   0              0               0   \n",
       "3       0           1  ...                   0              0               0   \n",
       "4       0           1  ...                   0              0               0   \n",
       "\n",
       "   sport_table tennis  sport_taekwondo  sport_tennis  sport_triathlon  \\\n",
       "0                   0                0             0                0   \n",
       "1                   0                0             0                0   \n",
       "2                   0                0             0                0   \n",
       "3                   0                1             0                0   \n",
       "4                   0                0             0                0   \n",
       "\n",
       "   sport_volleyball  sport_weightlifting  sport_wrestling  \n",
       "0                 0                    0                0  \n",
       "1                 0                    0                0  \n",
       "2                 0                    0                0  \n",
       "3                 0                    0                0  \n",
       "4                 0                    0                0  \n",
       "\n",
       "[5 rows x 237 columns]"
      ]
     },
     "execution_count": 73,
     "metadata": {},
     "output_type": "execute_result"
    }
   ],
   "source": [
    "# Case 1. Transforming of string categories.\n",
    "from sklearn.preprocessing import LabelEncoder\n",
    "\n",
    "data = df\n",
    "\n",
    "le = LabelEncoder()\n",
    "le.fit(data['sex'])\n",
    "data['gender num'] = le.transform(data['sex'])  \n",
    "\n",
    "data = pd.get_dummies(df, columns=['nationality', 'sport'])\n",
    "\n",
    "data.head()"
   ]
  },
  {
   "cell_type": "code",
   "execution_count": 74,
   "id": "f27e4c46",
   "metadata": {
    "pycharm": {
     "name": "#%%\n"
    }
   },
   "outputs": [
    {
     "data": {
      "text/html": [
       "<div>\n",
       "<style scoped>\n",
       "    .dataframe tbody tr th:only-of-type {\n",
       "        vertical-align: middle;\n",
       "    }\n",
       "\n",
       "    .dataframe tbody tr th {\n",
       "        vertical-align: top;\n",
       "    }\n",
       "\n",
       "    .dataframe thead th {\n",
       "        text-align: right;\n",
       "    }\n",
       "</style>\n",
       "<table border=\"1\" class=\"dataframe\">\n",
       "  <thead>\n",
       "    <tr style=\"text-align: right;\">\n",
       "      <th></th>\n",
       "      <th>dob</th>\n",
       "      <th>Age</th>\n",
       "    </tr>\n",
       "  </thead>\n",
       "  <tbody>\n",
       "    <tr>\n",
       "      <th>0</th>\n",
       "      <td>10/17/69</td>\n",
       "      <td>53</td>\n",
       "    </tr>\n",
       "    <tr>\n",
       "      <th>1</th>\n",
       "      <td>9/23/86</td>\n",
       "      <td>36</td>\n",
       "    </tr>\n",
       "    <tr>\n",
       "      <th>2</th>\n",
       "      <td>5/27/92</td>\n",
       "      <td>31</td>\n",
       "    </tr>\n",
       "    <tr>\n",
       "      <th>3</th>\n",
       "      <td>1/2/91</td>\n",
       "      <td>32</td>\n",
       "    </tr>\n",
       "  </tbody>\n",
       "</table>\n",
       "</div>"
      ],
      "text/plain": [
       "        dob  Age\n",
       "0  10/17/69   53\n",
       "1   9/23/86   36\n",
       "2   5/27/92   31\n",
       "3    1/2/91   32"
      ]
     },
     "execution_count": 74,
     "metadata": {},
     "output_type": "execute_result"
    }
   ],
   "source": [
    "# Calulate age of sportsman\n",
    "from datetime import date\n",
    "\n",
    "def determine_year(year:int):\n",
    "    if year <= (date.today().year-2000):\n",
    "        return 2000+year\n",
    "    else:\n",
    "        return 1900+year\n",
    "\n",
    "def calculateAge(line):\n",
    "    today = date.today()\n",
    "    birth = line.split('/')\n",
    "    year_birth = determine_year(int(birth[2]))\n",
    "    birth = date(year_birth, int(birth[0]), int(birth[1]))\n",
    "    age = today.year - birth.year - ((today.month, today.day) < (birth.month, birth.day))\n",
    "    return age\n",
    "    \n",
    "    \n",
    "data['Age'] = data['dob'].apply(calculateAge)\n",
    "data[['dob','Age']][:4]"
   ]
  },
  {
   "cell_type": "code",
   "execution_count": 75,
   "id": "ff573801",
   "metadata": {
    "pycharm": {
     "name": "#%%\n"
    }
   },
   "outputs": [],
   "source": [
    "# Case 2. Split to train and test datasets\n",
    "from sklearn.model_selection import train_test_split\n",
    "\n",
    "# Dataset 1\n",
    "y_1 = data['gender num']\n",
    "X_1 = data.iloc[:, 4:]\n",
    "\n",
    "X_train_1, X_test_1, y_train_1, y_test_1 = train_test_split(X_1, y_1, test_size=0.2, random_state=42)\n",
    "\n",
    "#Dataset 2\n",
    "y_2 = y_1\n",
    "X_2 = data.iloc[:, 4:8]\n",
    "\n",
    "X_train_2, X_test_2, y_train_2, y_test_2 = train_test_split(X_2, y_2, test_size=0.2, random_state=42)\n",
    "\n",
    "#Dataset 3\n",
    "y_3 = y_1\n",
    "X_3 = data.iloc[:, 12:14]\n",
    "\n",
    "X_train_3, X_test_3, y_train_3, y_test_3 = train_test_split(X_3, y_3, test_size=0.2, random_state=42)"
   ]
  },
  {
   "cell_type": "code",
   "execution_count": 76,
   "id": "a9066bda",
   "metadata": {
    "pycharm": {
     "name": "#%%\n"
    }
   },
   "outputs": [
    {
     "name": "stdout",
     "output_type": "stream",
     "text": [
      "dataset 1 roc_auc_score:  1.0\n",
      "dataset 2 roc_auc_score:  0.8509160028468971\n",
      "dataset 3 roc_auc_score:  0.5052968711505296\n"
     ]
    },
    {
     "data": {
      "image/png": "[encoded data removed]",
      "text/plain": [
       "<Figure size 864x648 with 1 Axes>"
      ]
     },
     "metadata": {
      "needs_background": "light"
     },
     "output_type": "display_data"
    }
   ],
   "source": [
    "#Cases 3, 4 ROC AUC Curve and ROC AUC score\n",
    "from sklearn.linear_model import LogisticRegression\n",
    "from sklearn.metrics import roc_curve, roc_auc_score\n",
    "\n",
    "logreg = LogisticRegression()\n",
    "\n",
    "# Calculate fpr and tpr for threshold [1, 0]\n",
    "logreg.fit(X_train_1, y_train_1)\n",
    "fpr_1, tpr_1, threshold_1 = roc_curve(y_test_1, logreg.predict_proba(X_test_1)[:, 1])\n",
    "print('dataset 1 roc_auc_score: ', roc_auc_score(y_test_1, logreg.predict_proba(X_test_1)[:, 1]))\n",
    "\n",
    "logreg.fit(X_train_2, y_train_2)\n",
    "fpr_2, tpr_2, threshold_2 = roc_curve(y_test_2, logreg.predict_proba(X_test_2)[:, 1])\n",
    "print('dataset 2 roc_auc_score: ', roc_auc_score(y_test_2, logreg.predict_proba(X_test_2)[:, 1]))\n",
    "\n",
    "logreg.fit(X_train_3, y_train_3)\n",
    "fpr_3, tpr_3, threshold_3 = roc_curve(y_test_3, logreg.predict_proba(X_test_3)[:, 1])\n",
    "print('dataset 3 roc_auc_score: ', roc_auc_score(y_test_3, logreg.predict_proba(X_test_3)[:, 1]))\n",
    "\n",
    "#for line in zip(fpr_2, tpr_2, threshold_2):\n",
    "#    print(line)\n",
    "\n",
    "\n",
    "# Construct ROC AUC curves\n",
    "plt.figure(figsize=(12,9))\n",
    "plt.plot(fpr_1, tpr_1, label='dataset 1')\n",
    "plt.plot(fpr_2, tpr_2, label='dataset 2')\n",
    "plt.plot(tpr_3, tpr_3, label='dataset 3')\n",
    "plt.legend(loc=0)\n",
    "plt.xlabel('False Positive Rate')\n",
    "plt.ylabel('True Positive Rate')\n",
    "plt.show()"
   ]
  },
  {
   "cell_type": "code",
   "execution_count": 77,
   "id": "e8161074",
   "metadata": {
    "pycharm": {
     "name": "#%%\n"
    }
   },
   "outputs": [],
   "source": [
    "# Case 5. Own functions: tpr fpr scores.\n",
    "\n",
    "def get_thuth_matrix(y_true, y_pred, tr=0.5):\n",
    "    tp = 0\n",
    "    fp = 0\n",
    "    fn = 0\n",
    "    tn = 0\n",
    "    \n",
    "    for i in range(len(y_true)-1):\n",
    "        if y_pred[i] >= tr:  \n",
    "            if y_true.iloc[i] == 1:\n",
    "                tp += 1\n",
    "            else:\n",
    "                fp += 1\n",
    "        else:\n",
    "            if y_true.iloc[i] == 1:\n",
    "                fn += 1\n",
    "            else:\n",
    "                tn += 1\n",
    "    return {'tp': tp, 'fp': fp, 'fn': fn, 'tn': tn}\n",
    "    \n",
    "\n",
    "\n",
    "def tpr_score(y_true, y_pred, tr=0.5):\n",
    "    tm = get_thuth_matrix(y_true, y_pred, tr)\n",
    "    \n",
    "    return tm['tp']/(tm['tp']+tm['fn'])\n",
    "\n",
    "\n",
    "def fpr_score(y_true, y_pred, tr=0.5):\n",
    "    tm = get_thuth_matrix(y_true, y_pred, tr)\n",
    "    \n",
    "    return tm['fp']/(tm['fp']+tm['tn'])    \n",
    "\n",
    "\n",
    "def precision_score(y_true, y_pred, tr=0.5):\n",
    "    tm = get_thuth_matrix(y_true, y_pred, tr)\n",
    "    \n",
    "    return 0 if tm['tp'] == 0 else tm['tp']/(tm['tp']+tm['fp']) \n",
    "\n",
    "\n",
    "def roc_auc_curve(y_true, y_pred, step_thr=0.01):\n",
    "    tpr = []\n",
    "    fpr = []\n",
    "    thr = []\n",
    "    for tr in np.arange(1.0, 0.0, -step_thr):\n",
    "        #print(tr)\n",
    "        thr.append(tr)\n",
    "        tpr.append(tpr_score(y_true, y_pred, tr))\n",
    "        fpr.append(fpr_score(y_true, y_pred, tr))\n",
    "    return (tpr, fpr, thr)\n",
    "\n",
    "\n",
    "def pr_curve(y_true, y_pred):\n",
    "    tpr = []\n",
    "    precisions = []\n",
    "    thr = []\n",
    "    for tr in np.arange(0.0, 1.0, 0.01):\n",
    "        #print(tr)\n",
    "        thr.append(tr)\n",
    "        tpr.append(tpr_score(y_true, y_pred, tr))\n",
    "        precisions.append(precision_score(y_true, y_pred, tr))\n",
    "    return (tpr, precisions, thr)"
   ]
  },
  {
   "cell_type": "code",
   "execution_count": 78,
   "id": "4496861b",
   "metadata": {
    "pycharm": {
     "name": "#%%\n"
    }
   },
   "outputs": [
    {
     "data": {
      "image/png": "[encoded data removed]",
      "text/plain": [
       "<Figure size 864x648 with 1 Axes>"
      ]
     },
     "metadata": {
      "needs_background": "light"
     },
     "output_type": "display_data"
    }
   ],
   "source": [
    "# Case 6. ROC AUC\n",
    "# Свои функции применяю только на втором дата сете\n",
    "logreg.fit(X_train_2, y_train_2)\n",
    "\n",
    "tpr_own, fpr_own, thr_orn = roc_auc_curve(y_test_2, logreg.predict_proba(X_test_2)[:, 1])\n",
    "\n",
    "\n",
    " \n",
    "#for line in zip(fpr_own, tpr_own, thr_orn):\n",
    "#    print(line)\n",
    "\n",
    "# Graphics of SKlearn AUC ROC and own AUC ROC\n",
    "plt.figure(figsize=(12,9))\n",
    "plt.plot(fpr_2, tpr_2, label='dataset 2')\n",
    "plt.plot(fpr_own, tpr_own, label='dataset 2 own fun')\n",
    "plt.legend(loc=0)\n",
    "plt.xlabel('False Positive Rate')\n",
    "plt.ylabel('True Positive Rate')\n",
    "plt.show()"
   ]
  },
  {
   "cell_type": "code",
   "execution_count": 62,
   "id": "ce468dd3",
   "metadata": {
    "pycharm": {
     "name": "#%%\n"
    }
   },
   "outputs": [
    {
     "data": {
      "image/png": "[encoded data removed]",
      "text/plain": [
       "<Figure size 864x648 with 1 Axes>"
      ]
     },
     "metadata": {
      "needs_background": "light"
     },
     "output_type": "display_data"
    }
   ],
   "source": [
    "# Case 7\n",
    "recall_own, precisions_own, thr_orn = pr_curve(y_test_2, logreg.predict_proba(X_test_2)[:, 1])\n",
    "\n",
    "# Graphics of SKlearn AUC ROC and own AUC ROC\n",
    "plt.figure(figsize=(12,9))\n",
    "plt.plot(recall_own, precisions_own, label='PR AUC')\n",
    "plt.legend(loc=0)\n",
    "plt.xlabel('Recall')\n",
    "plt.ylabel('Precision')\n",
    "plt.show()"
   ]
  },
  {
   "cell_type": "code",
   "execution_count": 63,
   "id": "dae968cb",
   "metadata": {
    "pycharm": {
     "name": "#%%\n"
    }
   },
   "outputs": [
    {
     "data": {
      "image/png": "[encoded data removed]",
      "text/plain": [
       "<Figure size 864x648 with 1 Axes>"
      ]
     },
     "metadata": {
      "needs_background": "light"
     },
     "output_type": "display_data"
    }
   ],
   "source": [
    "# Case 7\n",
    "recall_own, precisions_own, thr_orn = pr_curve(y_test_2, logreg.predict_proba(X_test_2)[:, 1])\n",
    "\n",
    "# Graphics of SKlearn AUC ROC and own AUC ROC\n",
    "plt.figure(figsize=(12,9))\n",
    "plt.plot(thr_orn, precisions_own, label='Threshold-Precision AUC')\n",
    "plt.legend(loc=0)\n",
    "plt.xlabel('Threshold')\n",
    "plt.ylabel('Precision')\n",
    "plt.show()"
   ]
  },
  {
   "cell_type": "code",
   "execution_count": 64,
   "id": "f9b1599c",
   "metadata": {
    "pycharm": {
     "name": "#%%\n"
    }
   },
   "outputs": [
    {
     "data": {
      "image/png": "[encoded data removed]",
      "text/plain": [
       "<Figure size 864x648 with 1 Axes>"
      ]
     },
     "metadata": {
      "needs_background": "light"
     },
     "output_type": "display_data"
    }
   ],
   "source": [
    "# Case 7\n",
    "recall_own, precisions_own, thr_orn = pr_curve(y_test_2, logreg.predict_proba(X_test_2)[:, 1])\n",
    "\n",
    "# Graphics of SKlearn AUC ROC and own AUC ROC\n",
    "plt.figure(figsize=(12,9))\n",
    "plt.plot(thr_orn, recall_own, label='Threshold-Recall AUC')\n",
    "plt.legend(loc=0)\n",
    "plt.xlabel('Threshold')\n",
    "plt.ylabel('Recall')\n",
    "plt.show()"
   ]
  },
  {
   "cell_type": "code",
   "execution_count": 80,
   "id": "9520b0a4",
   "metadata": {
    "pycharm": {
     "name": "#%%\n"
    }
   },
   "outputs": [
    {
     "name": "stdout",
     "output_type": "stream",
     "text": [
      "own roc_auc_score:  0.8515292703474624\n",
      "dataset 2 roc_auc_score SKLearn:  0.8509160028468971\n"
     ]
    }
   ],
   "source": [
    "# Case 8\n",
    "#Не нашел формулы для собственной реализации roc_auc_score. \n",
    "#Посчитал, как производную (сумму прямоугольников с маленьким шагом трешхолда).\n",
    "\n",
    "def my_roc_auc_score_(y_true, y_pred):\n",
    "    roc_auc_score_ = 0.0\n",
    "    tpr_own_, fpr_own_, thr_orn_ = roc_auc_curve(y_true, y_pred, step_thr=0.0001)\n",
    "    auc_curve_set = list(zip(fpr_own_, tpr_own_, thr_orn_))\n",
    "    for i in range(1, len(auc_curve_set)):\n",
    "        a = auc_curve_set[i][0] - auc_curve_set[i-1][0]\n",
    "        b = auc_curve_set[i][1]\n",
    "        roc_auc_score_ += (a*b)\n",
    "    return roc_auc_score_\n",
    "\n",
    "print('own roc_auc_score: ', my_roc_auc_score_(y_test_2, logreg.predict_proba(X_test_2)[:, 1]))\n",
    "\n",
    "print('dataset 2 roc_auc_score SKLearn: ', roc_auc_score(y_test_2, logreg.predict_proba(X_test_2)[:, 1]))"
   ]
  },
  {
   "cell_type": "markdown",
   "id": "779da331",
   "metadata": {
    "pycharm": {
     "name": "#%% md\n"
    }
   },
   "source": [
    "<b>Вывод 1: </b>\n",
    "По построенным AUC и PR графикам можно судить о качестве модели: чем больше площадь под ними тем выше ее предсказаетльные возможности.\n",
    "1) ROC Curve в идеальном случае достигает максимальной оценки Recall при нулевом FPR , т.е. накапливает Правдиво-Позитивные, не набирая при этом Ложно-Позитивных случаев. Далее после нахождения всех Правдиво-Позитивных, начинает накапливаться Ложно-Позитивные случаи, тем самым двигая график вправо до тех пор пока не останется Правдиво-Негативных случаев. Более показательна для сбалансированных классов.\n",
    "2) PR Curve показывает с какой скоростью и в каких пропорциях растет оценка Precision и падает оценка Recall с увелечением threshold. Идельным случаем является когда достигается точка (1,1). Данный график более показателен для несбалансированных классов.\n"
   ]
  },
  {
   "cell_type": "markdown",
   "id": "adad690a",
   "metadata": {
    "pycharm": {
     "name": "#%% md\n"
    }
   },
   "source": [
    "<b>Вывод 2: </b>\n",
    "Думаю, что ROC Curve может быть ниже диагонали, например, когда повышая порог у нас TP не вырос (положительные классы остались отрицательными), но вырос FP (какие то отрицательные классы перетекли в положительные). Таким образом площадь под графиком будет стремиться к нулю.\n",
    "Можно сказать, что в данном случае модель \"предсказывает антизначения\"."
   ]
  },
  {
   "cell_type": "code",
   "execution_count": null,
   "id": "50d87fdf",
   "metadata": {
    "pycharm": {
     "name": "#%%\n"
    }
   },
   "outputs": [],
   "source": []
  }
 ],
 "metadata": {
  "kernelspec": {
   "display_name": "Python 3 (ipykernel)",
   "language": "python",
   "name": "python3"
  },
  "language_info": {
   "codemirror_mode": {
    "name": "ipython",
    "version": 3
   },
   "file_extension": ".py",
   "mimetype": "text/x-python",
   "name": "python",
   "nbconvert_exporter": "python",
   "pygments_lexer": "ipython3",
   "version": "3.8.12"
  }
 },
 "nbformat": 4,
 "nbformat_minor": 5
}