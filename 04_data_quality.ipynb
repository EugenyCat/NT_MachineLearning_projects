{
 "cells": [
  {
   "cell_type": "markdown",
   "id": "f1baa886",
   "metadata": {
    "pycharm": {
     "name": "#%% md\n"
    }
   },
   "source": [
    "<b>Tasks:</b>\n",
    "- to clean the data using the dataset with information about Titanic passengers \n",
    "- achieve a high value of metric\n",
    "\n",
    "\n",
    "часть идей брал отсюда https://towardsdatascience.com/predicting-the-survival-of-titanic-passengers-30870ccc7e8"
   ]
  },
  {
   "cell_type": "code",
   "execution_count": 28,
   "id": "1d29d217",
   "metadata": {
    "pycharm": {
     "name": "#%%\n"
    }
   },
   "outputs": [],
   "source": [
    "import pandas as pd\n",
    "import numpy as np\n",
    "import statsmodels.api as sm\n",
    "import matplotlib.pyplot as plt\n",
    "\n",
    "import warnings\n",
    "warnings.filterwarnings('ignore')"
   ]
  },
  {
   "cell_type": "code",
   "execution_count": 2,
   "id": "53604c61",
   "metadata": {
    "pycharm": {
     "name": "#%%\n"
    }
   },
   "outputs": [
    {
     "name": "stdout",
     "output_type": "stream",
     "text": [
      "<class 'pandas.core.frame.DataFrame'>\n",
      "RangeIndex: 891 entries, 0 to 890\n",
      "Data columns (total 12 columns):\n",
      " #   Column       Non-Null Count  Dtype  \n",
      "---  ------       --------------  -----  \n",
      " 0   PassengerId  891 non-null    int64  \n",
      " 1   Survived     891 non-null    int64  \n",
      " 2   Pclass       891 non-null    int64  \n",
      " 3   Name         891 non-null    object \n",
      " 4   Sex          891 non-null    object \n",
      " 5   Age          714 non-null    float64\n",
      " 6   SibSp        891 non-null    int64  \n",
      " 7   Parch        891 non-null    int64  \n",
      " 8   Ticket       891 non-null    object \n",
      " 9   Fare         891 non-null    float64\n",
      " 10  Cabin        204 non-null    object \n",
      " 11  Embarked     889 non-null    object \n",
      "dtypes: float64(2), int64(5), object(5)\n",
      "memory usage: 83.7+ KB\n"
     ]
    }
   ],
   "source": [
    "# Step 1. Load data\n",
    "df = pd.read_csv('dz_materials/titanic.csv')\n",
    "df.info()"
   ]
  },
  {
   "cell_type": "code",
   "execution_count": 3,
   "id": "0df589b3",
   "metadata": {
    "pycharm": {
     "name": "#%%\n"
    }
   },
   "outputs": [
    {
     "data": {
      "text/html": [
       "<div>\n",
       "<style scoped>\n",
       "    .dataframe tbody tr th:only-of-type {\n",
       "        vertical-align: middle;\n",
       "    }\n",
       "\n",
       "    .dataframe tbody tr th {\n",
       "        vertical-align: top;\n",
       "    }\n",
       "\n",
       "    .dataframe thead th {\n",
       "        text-align: right;\n",
       "    }\n",
       "</style>\n",
       "<table border=\"1\" class=\"dataframe\">\n",
       "  <thead>\n",
       "    <tr style=\"text-align: right;\">\n",
       "      <th></th>\n",
       "      <th>PassengerId</th>\n",
       "      <th>Survived</th>\n",
       "      <th>Pclass</th>\n",
       "      <th>Name</th>\n",
       "      <th>Sex</th>\n",
       "      <th>Age</th>\n",
       "      <th>SibSp</th>\n",
       "      <th>Parch</th>\n",
       "      <th>Ticket</th>\n",
       "      <th>Fare</th>\n",
       "      <th>Cabin</th>\n",
       "      <th>Embarked</th>\n",
       "    </tr>\n",
       "  </thead>\n",
       "  <tbody>\n",
       "    <tr>\n",
       "      <th>0</th>\n",
       "      <td>1</td>\n",
       "      <td>0</td>\n",
       "      <td>3</td>\n",
       "      <td>Braund, Mr. Owen Harris</td>\n",
       "      <td>male</td>\n",
       "      <td>22.0</td>\n",
       "      <td>1</td>\n",
       "      <td>0</td>\n",
       "      <td>A/5 21171</td>\n",
       "      <td>7.2500</td>\n",
       "      <td>NaN</td>\n",
       "      <td>S</td>\n",
       "    </tr>\n",
       "    <tr>\n",
       "      <th>1</th>\n",
       "      <td>2</td>\n",
       "      <td>1</td>\n",
       "      <td>1</td>\n",
       "      <td>Cumings, Mrs. John Bradley (Florence Briggs Th...</td>\n",
       "      <td>female</td>\n",
       "      <td>38.0</td>\n",
       "      <td>1</td>\n",
       "      <td>0</td>\n",
       "      <td>PC 17599</td>\n",
       "      <td>71.2833</td>\n",
       "      <td>C85</td>\n",
       "      <td>C</td>\n",
       "    </tr>\n",
       "    <tr>\n",
       "      <th>2</th>\n",
       "      <td>3</td>\n",
       "      <td>1</td>\n",
       "      <td>3</td>\n",
       "      <td>Heikkinen, Miss. Laina</td>\n",
       "      <td>female</td>\n",
       "      <td>26.0</td>\n",
       "      <td>0</td>\n",
       "      <td>0</td>\n",
       "      <td>STON/O2. 3101282</td>\n",
       "      <td>7.9250</td>\n",
       "      <td>NaN</td>\n",
       "      <td>S</td>\n",
       "    </tr>\n",
       "    <tr>\n",
       "      <th>3</th>\n",
       "      <td>4</td>\n",
       "      <td>1</td>\n",
       "      <td>1</td>\n",
       "      <td>Futrelle, Mrs. Jacques Heath (Lily May Peel)</td>\n",
       "      <td>female</td>\n",
       "      <td>35.0</td>\n",
       "      <td>1</td>\n",
       "      <td>0</td>\n",
       "      <td>113803</td>\n",
       "      <td>53.1000</td>\n",
       "      <td>C123</td>\n",
       "      <td>S</td>\n",
       "    </tr>\n",
       "    <tr>\n",
       "      <th>4</th>\n",
       "      <td>5</td>\n",
       "      <td>0</td>\n",
       "      <td>3</td>\n",
       "      <td>Allen, Mr. William Henry</td>\n",
       "      <td>male</td>\n",
       "      <td>35.0</td>\n",
       "      <td>0</td>\n",
       "      <td>0</td>\n",
       "      <td>373450</td>\n",
       "      <td>8.0500</td>\n",
       "      <td>NaN</td>\n",
       "      <td>S</td>\n",
       "    </tr>\n",
       "  </tbody>\n",
       "</table>\n",
       "</div>"
      ],
      "text/plain": [
       "   PassengerId  Survived  Pclass  \\\n",
       "0            1         0       3   \n",
       "1            2         1       1   \n",
       "2            3         1       3   \n",
       "3            4         1       1   \n",
       "4            5         0       3   \n",
       "\n",
       "                                                Name     Sex   Age  SibSp  \\\n",
       "0                            Braund, Mr. Owen Harris    male  22.0      1   \n",
       "1  Cumings, Mrs. John Bradley (Florence Briggs Th...  female  38.0      1   \n",
       "2                             Heikkinen, Miss. Laina  female  26.0      0   \n",
       "3       Futrelle, Mrs. Jacques Heath (Lily May Peel)  female  35.0      1   \n",
       "4                           Allen, Mr. William Henry    male  35.0      0   \n",
       "\n",
       "   Parch            Ticket     Fare Cabin Embarked  \n",
       "0      0         A/5 21171   7.2500   NaN        S  \n",
       "1      0          PC 17599  71.2833   C85        C  \n",
       "2      0  STON/O2. 3101282   7.9250   NaN        S  \n",
       "3      0            113803  53.1000  C123        S  \n",
       "4      0            373450   8.0500   NaN        S  "
      ]
     },
     "execution_count": 3,
     "metadata": {},
     "output_type": "execute_result"
    }
   ],
   "source": [
    "df.head()"
   ]
  },
  {
   "cell_type": "markdown",
   "id": "ee9d3e99-b82c-42ca-baec-a360f9b58331",
   "metadata": {
    "pycharm": {
     "name": "#%% md\n"
    }
   },
   "source": [
    "- Survival - Survival (0 = No; 1 = Yes). Not included in test.csv file.\n",
    "- Pclass - Passenger Class (1 = 1st; 2 = 2nd; 3 = 3rd)\n",
    "- Name - Name\n",
    "- Sex - Sex\n",
    "- Age - Age\n",
    "- Sibsp - Number of Siblings/Spouses Aboard\n",
    "- Parch - Number of Parents/Children Aboard\n",
    "- Ticket - Ticket Number\n",
    "- Fare - Passenger Fare\n",
    "- Cabin - Cabin\n",
    "- Embarked - Port of Embarkation (C = Cherbourg; Q = Queenstown; S = Southampton)"
   ]
  },
  {
   "cell_type": "code",
   "execution_count": 4,
   "id": "bddf47d3",
   "metadata": {
    "pycharm": {
     "name": "#%%\n"
    }
   },
   "outputs": [],
   "source": [
    "from sklearn.metrics import accuracy_score, f1_score, precision_score, recall_score\n",
    "\n",
    "#function for metrics\n",
    "def to_determine_metrics(y_test, y_pred):\n",
    "    print('Accuracy: ', accuracy_score(y_test, y_pred))\n",
    "    print('Precision: ', precision_score(y_test, y_pred))\n",
    "    print('Recall: ', recall_score(y_test, y_pred))\n",
    "    print('F1-measure: ', f1_score(y_test, y_pred))\n",
    "    "
   ]
  },
  {
   "cell_type": "markdown",
   "id": "8a870dac",
   "metadata": {
    "pycharm": {
     "name": "#%% md\n"
    }
   },
   "source": [
    "### Step 2. Deleting empties and categories"
   ]
  },
  {
   "cell_type": "code",
   "execution_count": 6,
   "id": "ababc0c8",
   "metadata": {
    "pycharm": {
     "name": "#%%\n"
    }
   },
   "outputs": [
    {
     "name": "stdout",
     "output_type": "stream",
     "text": [
      "Accuracy:  0.6891025641025641\n",
      "Precision:  0.6736111111111112\n",
      "Recall:  0.3975409836065574\n",
      "F1-measure:  0.5\n"
     ]
    }
   ],
   "source": [
    "from sklearn.model_selection import train_test_split\n",
    "from sklearn.linear_model import LogisticRegression\n",
    "\n",
    "X = df.drop(columns=['Cabin', 'Age', 'Name', 'Sex', 'Ticket', 'Embarked', 'Survived'])\n",
    "y = df['Survived']\n",
    "\n",
    "X_train, X_test, y_train, y_test = train_test_split(X, y, train_size=0.3, random_state=42)\n",
    "\n",
    "lr = LogisticRegression()\n",
    "lr.fit(X_train, y_train)\n",
    "to_determine_metrics(y_test, lr.predict(X_test))"
   ]
  },
  {
   "cell_type": "markdown",
   "id": "d31d43a2",
   "metadata": {
    "pycharm": {
     "name": "#%% md\n"
    }
   },
   "source": [
    "### Step 3-4. Delete excess data + Step 8 Graphics\n",
    "Survival - целевая переменная. (the target variable)\n",
    "\n",
    "- Pclass - например, может влиять на приоритет спасения. (can influences, for instance, the priority of rescuing)\n",
    "- Sex, Age - физ. характристика человека. (influences the physical capabilities of people)\n",
    "- Sibsp, Parch - родственники могли кооперироваться для спасения. (family can help)\n",
    "- Fare - стоимость билета, признак похож на Pclass. (that field might has a high correlation with [Pclass])\n",
    "- Embarked - куда человек плыл аналогично маловероятно играет важную роль.\n",
    "\n",
    "\n",
    "<b>Drop:</b>\n",
    "- Name, PassengerId - имя человека маловероятно играет важную роль.\n",
    "- Ticket - много категорий, сложный для преобразования признак.\n",
    "- Cabin - мало данных, хотя расположение комнат и могло сыграть решающую роль в выживании. (lack of data)"
   ]
  },
  {
   "cell_type": "code",
   "execution_count": 7,
   "id": "f9bf01e2",
   "metadata": {
    "pycharm": {
     "name": "#%%\n"
    }
   },
   "outputs": [],
   "source": [
    "df = df.drop(columns=['Name', 'Ticket', 'PassengerId', 'Cabin'])"
   ]
  },
  {
   "cell_type": "code",
   "execution_count": 30,
   "id": "d4095920-73d5-4565-bb52-03ef7d9cba5b",
   "metadata": {
    "pycharm": {
     "name": "#%%\n"
    }
   },
   "outputs": [
    {
     "data": {
      "text/plain": [
       "<seaborn.axisgrid.FacetGrid at 0x25a87860d30>"
      ]
     },
     "execution_count": 30,
     "metadata": {},
     "output_type": "execute_result"
    },
    {
     "data": {
      "image/png": "[encoded data removed]",
      "text/plain": [
       "<Figure size 483.875x360 with 2 Axes>"
      ]
     },
     "metadata": {
      "needs_background": "light"
     },
     "output_type": "display_data"
    }
   ],
   "source": [
    "import seaborn as sns\n",
    "\n",
    "g = sns.displot(\n",
    "    data=df, x=\"Age\", hue=\"Survived\", col=\"Sex\",\n",
    "    kind=\"hist\", height=5, aspect=.6,\n",
    ")\n",
    "g.set_axis_labels(\"Age\")\n",
    "g.set_titles(\"{col_name}\")"
   ]
  },
  {
   "cell_type": "markdown",
   "id": "4c7ff422-7172-4550-a87a-171333d98c2d",
   "metadata": {
    "pycharm": {
     "name": "#%% md\n"
    }
   },
   "source": [
    "<b> Возраст и пол однозначно влияют на целевую переменную. </b>\n",
    "\n",
    "Больше шансов на спасение:\n",
    "    1) у детей обоих полов\n",
    "    2) у муж возраста от 20 до 30\n",
    "    3) у жен возраста от 18 до 40"
   ]
  },
  {
   "cell_type": "code",
   "execution_count": 9,
   "id": "3c94e918-9625-47f1-8e9d-53da58525070",
   "metadata": {
    "pycharm": {
     "name": "#%%\n"
    }
   },
   "outputs": [
    {
     "data": {
      "text/plain": [
       "<seaborn.axisgrid.FacetGrid at 0x25a83f32d30>"
      ]
     },
     "execution_count": 9,
     "metadata": {},
     "output_type": "execute_result"
    },
    {
     "data": {
      "image/png": "[encoded data removed]",
      "text/plain": [
       "<Figure size 1798.5x360 with 3 Axes>"
      ]
     },
     "metadata": {
      "needs_background": "light"
     },
     "output_type": "display_data"
    }
   ],
   "source": [
    "import seaborn as sns\n",
    "FacetGrid = sns.FacetGrid(data=df, col=\"Embarked\", height=5, aspect=1.6)\n",
    "FacetGrid.map_dataframe(sns.pointplot, x='Pclass', y='Survived', hue='Sex', order=None )\n",
    "FacetGrid.add_legend()"
   ]
  },
  {
   "cell_type": "markdown",
   "id": "ecec50c2-12ce-4b68-b12e-2e2a09ce8983",
   "metadata": {
    "pycharm": {
     "name": "#%% md\n"
    }
   },
   "source": [
    "<b>Сыграл роль и порт, откуда отправлялись пассажиры. Порт С имеет обратную зависимость: мужчины тут имели большую веротяность выжить, относительно других портов отправления. </b>\n",
    "\n",
    "<b>Чем выше класс пассажира , тем вероятнее что он выжил</b>"
   ]
  },
  {
   "cell_type": "code",
   "execution_count": 10,
   "id": "89d31921-2e6e-4db3-9c75-58f4e4b66369",
   "metadata": {
    "pycharm": {
     "name": "#%%\n"
    }
   },
   "outputs": [
    {
     "data": {
      "text/plain": [
       "<AxesSubplot:xlabel='Sibsp and Parch', ylabel='Survived'>"
      ]
     },
     "execution_count": 10,
     "metadata": {},
     "output_type": "execute_result"
    },
    {
     "data": {
      "image/png": "[encoded data removed]",
      "text/plain": [
       "<Figure size 432x288 with 1 Axes>"
      ]
     },
     "metadata": {
      "needs_background": "light"
     },
     "output_type": "display_data"
    }
   ],
   "source": [
    "df['Sibsp and Parch'] = df['SibSp'] + df['Parch']\n",
    "sns.pointplot(data=df, y='Survived', x='Sibsp and Parch')"
   ]
  },
  {
   "cell_type": "markdown",
   "id": "f933185e-4475-42a5-98e4-b4c6500ff13e",
   "metadata": {
    "pycharm": {
     "name": "#%% md\n"
    }
   },
   "source": [
    "<b>Больше всего шансов выжить было у тех, кто имел 1-3 родственника</b>"
   ]
  },
  {
   "cell_type": "code",
   "execution_count": 11,
   "id": "d770f2a4-513d-4d01-8abc-e3596ce5609a",
   "metadata": {
    "pycharm": {
     "name": "#%%\n"
    }
   },
   "outputs": [
    {
     "data": {
      "text/plain": [
       "<seaborn.axisgrid.FacetGrid at 0x25a866b6e20>"
      ]
     },
     "execution_count": 11,
     "metadata": {},
     "output_type": "execute_result"
    },
    {
     "data": {
      "image/png": "[encoded data removed]",
      "text/plain": [
       "<Figure size 699.875x720 with 6 Axes>"
      ]
     },
     "metadata": {
      "needs_background": "light"
     },
     "output_type": "display_data"
    }
   ],
   "source": [
    "g = sns.displot(\n",
    "    data=df, x=\"Fare\", hue=\"Survived\", col=\"Pclass\", row='Sex',\n",
    "    kind=\"hist\", height=5, aspect=.6,\n",
    ")\n",
    "g.set_axis_labels(\"Fare\")\n",
    "g.set_titles(\"{col_name}\")"
   ]
  },
  {
   "cell_type": "markdown",
   "id": "3c326b2b-e535-44b6-8f33-55df5d100f13",
   "metadata": {
    "pycharm": {
     "name": "#%% md\n"
    }
   },
   "source": [
    "<b>Из полученных графиков сложно сделать конкретный вывод, но данное поле стоит оставить для дальнейшего анализа</b>"
   ]
  },
  {
   "cell_type": "markdown",
   "id": "e7be41ce",
   "metadata": {
    "pycharm": {
     "name": "#%% md\n"
    }
   },
   "source": [
    "### Step 5. Parsing and Replacing Nulls"
   ]
  },
  {
   "cell_type": "code",
   "execution_count": 19,
   "id": "0852dbd7",
   "metadata": {
    "pycharm": {
     "name": "#%%\n"
    }
   },
   "outputs": [
    {
     "name": "stdout",
     "output_type": "stream",
     "text": [
      "Precent of losing data [Age]:  0.19865319865319864\n",
      "Precent of losing data [Embarked]:  0.002244668911335568\n"
     ]
    },
    {
     "name": "stderr",
     "output_type": "stream",
     "text": [
      "C:\\Anaconda3\\lib\\site-packages\\pandas\\core\\indexing.py:1732: SettingWithCopyWarning: \n",
      "A value is trying to be set on a copy of a slice from a DataFrame\n",
      "\n",
      "See the caveats in the documentation: https://pandas.pydata.org/pandas-docs/stable/user_guide/indexing.html#returning-a-view-versus-a-copy\n",
      "  self._setitem_single_block(indexer, value, name)\n"
     ]
    }
   ],
   "source": [
    "print('Precent of losing data [Age]: ',  1 - len(df[~(df.Age.isna())])/len(df))\n",
    "print('Precent of losing data [Embarked]: ', 1 - len(df[~(df.Embarked.isna())])/len(df))\n",
    "\n",
    "# Empty Age -> mean Age +- std\n",
    "df.Age.loc[df.Age.isna()] = np.absolute(np.random.normal(loc=df.Age.mean(), scale=df.Age.std(), size=len(df[df.Age.isna()])))\n",
    "\n",
    "# Embarked -> changing empties to most popular value 'S'\n",
    "df.Embarked.loc[df.Embarked.isna()] = 'S'"
   ]
  },
  {
   "cell_type": "markdown",
   "id": "94812a93",
   "metadata": {
    "pycharm": {
     "name": "#%% md\n"
    }
   },
   "source": [
    "### Step 6. Encode categories"
   ]
  },
  {
   "cell_type": "code",
   "execution_count": 20,
   "id": "1a57a091",
   "metadata": {
    "pycharm": {
     "name": "#%%\n"
    }
   },
   "outputs": [],
   "source": [
    "from sklearn.preprocessing import LabelEncoder\n",
    "\n",
    "# Encode [Sex]\n",
    "le = LabelEncoder().fit(df.Sex)\n",
    "df.Sex = le.transform(df.Sex)\n",
    "\n",
    "# Encode [Embarked]\n",
    "le = LabelEncoder().fit(df.Embarked)\n",
    "df.Embarked = le.transform(df.Embarked)"
   ]
  },
  {
   "cell_type": "markdown",
   "id": "5abec809",
   "metadata": {
    "pycharm": {
     "name": "#%% md\n"
    }
   },
   "source": [
    "### Step 7. Check emissions"
   ]
  },
  {
   "cell_type": "code",
   "execution_count": 21,
   "id": "4b06a1a3-1a25-45d9-8d4e-3c32c7a99f3c",
   "metadata": {
    "pycharm": {
     "name": "#%%\n"
    }
   },
   "outputs": [
    {
     "data": {
      "text/plain": [
       "<seaborn.axisgrid.FacetGrid at 0x25a87724430>"
      ]
     },
     "execution_count": 21,
     "metadata": {},
     "output_type": "execute_result"
    },
    {
     "data": {
      "image/png": "[encoded data removed]",
      "text/plain": [
       "<Figure size 483.875x360 with 2 Axes>"
      ]
     },
     "metadata": {
      "needs_background": "light"
     },
     "output_type": "display_data"
    }
   ],
   "source": [
    "g = sns.displot(\n",
    "    data=df, x=\"Sibsp and Parch\", hue=\"Survived\", col=\"Sex\",\n",
    "    kind=\"hist\", height=5, aspect=.6,\n",
    ")\n",
    "g.set_axis_labels(\"Age\")\n",
    "g.set_titles(\"{col_name}\")"
   ]
  },
  {
   "cell_type": "code",
   "execution_count": 22,
   "id": "2572181d-d590-4d31-b14a-b17512482f26",
   "metadata": {
    "pycharm": {
     "name": "#%%\n"
    }
   },
   "outputs": [
    {
     "data": {
      "text/plain": [
       "<seaborn.axisgrid.FacetGrid at 0x25a87ab0ee0>"
      ]
     },
     "execution_count": 22,
     "metadata": {},
     "output_type": "execute_result"
    },
    {
     "data": {
      "image/png": "[encoded data removed]",
      "text/plain": [
       "<Figure size 483.875x360 with 2 Axes>"
      ]
     },
     "metadata": {
      "needs_background": "light"
     },
     "output_type": "display_data"
    }
   ],
   "source": [
    "g = sns.displot(\n",
    "    data=df, x=\"Fare\", hue=\"Survived\", col=\"Sex\",\n",
    "    kind=\"hist\", height=5, aspect=.6,\n",
    ")\n",
    "g.set_axis_labels(\"Age\")\n",
    "g.set_titles(\"{col_name}\")"
   ]
  },
  {
   "cell_type": "markdown",
   "id": "4885333f-ae10-44a9-8167-73f807fc8cae",
   "metadata": {
    "pycharm": {
     "name": "#%% md\n"
    }
   },
   "source": [
    "<b>Выбросы, которые стоило бы удалить, мною не оноружены.</b>"
   ]
  },
  {
   "cell_type": "code",
   "execution_count": 23,
   "id": "2fb9be1d",
   "metadata": {
    "pycharm": {
     "name": "#%%\n"
    }
   },
   "outputs": [
    {
     "data": {
      "image/png": "[encoded data removed]",
      "text/plain": [
       "<Figure size 360x360 with 6 Axes>"
      ]
     },
     "metadata": {
      "needs_background": "light"
     },
     "output_type": "display_data"
    }
   ],
   "source": [
    "sns.pairplot(df[['Pclass','Fare']]);"
   ]
  },
  {
   "cell_type": "markdown",
   "id": "cb749a8a-6df4-47a7-a64f-6b2454664377",
   "metadata": {
    "pycharm": {
     "name": "#%% md\n"
    }
   },
   "source": [
    "## Case 9. Transforming [Age]"
   ]
  },
  {
   "cell_type": "code",
   "execution_count": 36,
   "id": "e7b25d9c-e7b6-49ce-bf7a-615d9efe913f",
   "metadata": {
    "pycharm": {
     "name": "#%%\n"
    }
   },
   "outputs": [],
   "source": [
    "def transform_age(line):\n",
    "    if line <= 13:\n",
    "        return 1\n",
    "    elif line > 13 and line <=18:\n",
    "        return 2\n",
    "    elif line > 18 and line <= 24:\n",
    "        return 3\n",
    "    elif line > 24 and line <= 30:\n",
    "        return 4\n",
    "    elif line > 30 and line <= 35:\n",
    "        return 5\n",
    "    elif line > 35 and line <= 40:\n",
    "        return 6\n",
    "    elif line > 40 and line <= 45:\n",
    "        return 7\n",
    "    elif line > 45  and line <= 55:\n",
    "        return 8\n",
    "    elif line > 55  and line <= 65:\n",
    "        return 9\n",
    "    else:\n",
    "        return 10\n",
    "    \n",
    "df['Age_Category'] = df.Age.apply(transform_age)"
   ]
  },
  {
   "cell_type": "code",
   "execution_count": 25,
   "id": "1ba89b5d",
   "metadata": {
    "pycharm": {
     "name": "#%%\n"
    }
   },
   "outputs": [
    {
     "data": {
      "text/html": [
       "<div>\n",
       "<style scoped>\n",
       "    .dataframe tbody tr th:only-of-type {\n",
       "        vertical-align: middle;\n",
       "    }\n",
       "\n",
       "    .dataframe tbody tr th {\n",
       "        vertical-align: top;\n",
       "    }\n",
       "\n",
       "    .dataframe thead th {\n",
       "        text-align: right;\n",
       "    }\n",
       "</style>\n",
       "<table border=\"1\" class=\"dataframe\">\n",
       "  <thead>\n",
       "    <tr style=\"text-align: right;\">\n",
       "      <th></th>\n",
       "      <th>Survived</th>\n",
       "      <th>Pclass</th>\n",
       "      <th>Sex</th>\n",
       "      <th>Age</th>\n",
       "      <th>SibSp</th>\n",
       "      <th>Parch</th>\n",
       "      <th>Fare</th>\n",
       "      <th>Embarked</th>\n",
       "      <th>Sibsp and Parch</th>\n",
       "      <th>Age_Category</th>\n",
       "    </tr>\n",
       "  </thead>\n",
       "  <tbody>\n",
       "    <tr>\n",
       "      <th>0</th>\n",
       "      <td>0</td>\n",
       "      <td>3</td>\n",
       "      <td>1</td>\n",
       "      <td>22.0</td>\n",
       "      <td>1</td>\n",
       "      <td>0</td>\n",
       "      <td>7.2500</td>\n",
       "      <td>2</td>\n",
       "      <td>1</td>\n",
       "      <td>3</td>\n",
       "    </tr>\n",
       "    <tr>\n",
       "      <th>1</th>\n",
       "      <td>1</td>\n",
       "      <td>1</td>\n",
       "      <td>0</td>\n",
       "      <td>38.0</td>\n",
       "      <td>1</td>\n",
       "      <td>0</td>\n",
       "      <td>71.2833</td>\n",
       "      <td>0</td>\n",
       "      <td>1</td>\n",
       "      <td>6</td>\n",
       "    </tr>\n",
       "    <tr>\n",
       "      <th>2</th>\n",
       "      <td>1</td>\n",
       "      <td>3</td>\n",
       "      <td>0</td>\n",
       "      <td>26.0</td>\n",
       "      <td>0</td>\n",
       "      <td>0</td>\n",
       "      <td>7.9250</td>\n",
       "      <td>2</td>\n",
       "      <td>0</td>\n",
       "      <td>4</td>\n",
       "    </tr>\n",
       "    <tr>\n",
       "      <th>3</th>\n",
       "      <td>1</td>\n",
       "      <td>1</td>\n",
       "      <td>0</td>\n",
       "      <td>35.0</td>\n",
       "      <td>1</td>\n",
       "      <td>0</td>\n",
       "      <td>53.1000</td>\n",
       "      <td>2</td>\n",
       "      <td>1</td>\n",
       "      <td>5</td>\n",
       "    </tr>\n",
       "    <tr>\n",
       "      <th>4</th>\n",
       "      <td>0</td>\n",
       "      <td>3</td>\n",
       "      <td>1</td>\n",
       "      <td>35.0</td>\n",
       "      <td>0</td>\n",
       "      <td>0</td>\n",
       "      <td>8.0500</td>\n",
       "      <td>2</td>\n",
       "      <td>0</td>\n",
       "      <td>5</td>\n",
       "    </tr>\n",
       "  </tbody>\n",
       "</table>\n",
       "</div>"
      ],
      "text/plain": [
       "   Survived  Pclass  Sex   Age  SibSp  Parch     Fare  Embarked  \\\n",
       "0         0       3    1  22.0      1      0   7.2500         2   \n",
       "1         1       1    0  38.0      1      0  71.2833         0   \n",
       "2         1       3    0  26.0      0      0   7.9250         2   \n",
       "3         1       1    0  35.0      1      0  53.1000         2   \n",
       "4         0       3    1  35.0      0      0   8.0500         2   \n",
       "\n",
       "   Sibsp and Parch  Age_Category  \n",
       "0                1             3  \n",
       "1                1             6  \n",
       "2                0             4  \n",
       "3                1             5  \n",
       "4                0             5  "
      ]
     },
     "execution_count": 25,
     "metadata": {},
     "output_type": "execute_result"
    }
   ],
   "source": [
    "df.head()"
   ]
  },
  {
   "cell_type": "markdown",
   "id": "21e05c75-3569-477c-83ac-8e50f5883c63",
   "metadata": {
    "pycharm": {
     "name": "#%% md\n"
    }
   },
   "source": [
    "## Case 10. Fit again"
   ]
  },
  {
   "cell_type": "code",
   "execution_count": 43,
   "id": "48480fbc-a149-43bc-93bf-6ae3921bfa82",
   "metadata": {
    "pycharm": {
     "name": "#%%\n"
    }
   },
   "outputs": [
    {
     "name": "stdout",
     "output_type": "stream",
     "text": [
      "Accuracy:  0.7916666666666666\n",
      "Precision:  0.7544642857142857\n",
      "Recall:  0.6926229508196722\n",
      "F1-measure:  0.7222222222222222\n"
     ]
    }
   ],
   "source": [
    "from sklearn.model_selection import train_test_split\n",
    "from sklearn.linear_model import LogisticRegression\n",
    "\n",
    "y = df['Survived']\n",
    "X = df.drop(columns=['Survived', 'Age', 'Sibsp and Parch'])\n",
    "\n",
    "\n",
    "X_train, X_test, y_train, y_test = train_test_split(X, y, train_size=0.3, random_state=42)\n",
    "\n",
    "lr = LogisticRegression()\n",
    "lr.fit(X_train, y_train)\n",
    "to_determine_metrics(y_test, lr.predict(X_test))"
   ]
  },
  {
   "cell_type": "markdown",
   "id": "fdf937a7-d380-40d3-89e7-44abf5734ffb",
   "metadata": {
    "pycharm": {
     "name": "#%% md\n"
    }
   },
   "source": [
    "<b>Выводы:</b>\n",
    "1) метрика F1 улучшилась на 23%, что говорит о целесообразности преобразования исходных данных. \n",
    "\n",
    "2) в ходе работы были сделаны следующие преобразования: \n",
    "- заполнение пропусков [Age] с помощью нормального распределения, а также преобразован в категорию.\n",
    "- удаление столбцов ['Name', 'Ticket', 'PassengerId', 'Cabin'] т.к. ['Name', 'PassengerId'] не содержат полезной информации, 'Ticket' содержит много категорий, что затрудняет его обработку, в 'Cabin' значения пропущены более чем на 50%\n",
    "- был преобразован \n",
    "\n",
    "3) В ходе работы были построены графики отражающие зависимости и связи каждого признака и целевой переменной."
   ]
  },
  {
   "cell_type": "code",
   "execution_count": null,
   "id": "e70bc23b-4e22-45d7-8656-431719ce3e5a",
   "metadata": {
    "pycharm": {
     "name": "#%%\n"
    }
   },
   "outputs": [],
   "source": []
  }
 ],
 "metadata": {
  "kernelspec": {
   "display_name": "Python 3 (ipykernel)",
   "language": "python",
   "name": "python3"
  },
  "language_info": {
   "codemirror_mode": {
    "name": "ipython",
    "version": 3
   },
   "file_extension": ".py",
   "mimetype": "text/x-python",
   "name": "python",
   "nbconvert_exporter": "python",
   "pygments_lexer": "ipython3",
   "version": "3.9.7"
  }
 },
 "nbformat": 4,
 "nbformat_minor": 5
}