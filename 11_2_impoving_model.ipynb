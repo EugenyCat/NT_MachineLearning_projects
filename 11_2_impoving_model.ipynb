{
 "cells": [
  {
   "cell_type": "markdown",
   "id": "4b48107b-d80e-465e-866f-f287b61b9682",
   "metadata": {
    "pycharm": {
     "name": "#%% md\n"
    }
   },
   "source": [
    "<b>Task:</b>\n",
    "- Improve the quality by using the Bayesian Optimisation (hyperopt, optuna)"
   ]
  },
  {
   "cell_type": "code",
   "execution_count": 1,
   "id": "5a9635ef-f844-4f46-9029-4c339fd4d1a6",
   "metadata": {
    "pycharm": {
     "name": "#%%\n"
    }
   },
   "outputs": [],
   "source": [
    "import warnings\n",
    "warnings.filterwarnings('ignore')"
   ]
  },
  {
   "cell_type": "markdown",
   "source": [],
   "metadata": {
    "collapsed": false,
    "pycharm": {
     "name": "#%% md\n"
    }
   }
  },
  {
   "cell_type": "code",
   "execution_count": 2,
   "id": "7286c3a6-654f-4772-9703-fcceef39f198",
   "metadata": {
    "pycharm": {
     "name": "#%%\n"
    }
   },
   "outputs": [],
   "source": [
    "import pandas as pd\n",
    "import numpy as np\n",
    "import seaborn as sns"
   ]
  },
  {
   "cell_type": "code",
   "execution_count": 3,
   "id": "c90ae5f7-8c9f-4b56-9318-edd77eec14a3",
   "metadata": {
    "pycharm": {
     "name": "#%%\n"
    }
   },
   "outputs": [],
   "source": [
    "# Step 1. Load data\n",
    "from sklearn.datasets import fetch_california_housing\n",
    "df = pd.DataFrame(fetch_california_housing(as_frame=True).frame)"
   ]
  },
  {
   "cell_type": "code",
   "execution_count": 4,
   "id": "8f6225dc-c61b-4a18-8275-8171f1507e1e",
   "metadata": {
    "pycharm": {
     "name": "#%%\n"
    }
   },
   "outputs": [
    {
     "name": "stdout",
     "output_type": "stream",
     "text": [
      "<class 'pandas.core.frame.DataFrame'>\n",
      "RangeIndex: 20640 entries, 0 to 20639\n",
      "Data columns (total 9 columns):\n",
      " #   Column       Non-Null Count  Dtype  \n",
      "---  ------       --------------  -----  \n",
      " 0   MedInc       20640 non-null  float64\n",
      " 1   HouseAge     20640 non-null  float64\n",
      " 2   AveRooms     20640 non-null  float64\n",
      " 3   AveBedrms    20640 non-null  float64\n",
      " 4   Population   20640 non-null  float64\n",
      " 5   AveOccup     20640 non-null  float64\n",
      " 6   Latitude     20640 non-null  float64\n",
      " 7   Longitude    20640 non-null  float64\n",
      " 8   MedHouseVal  20640 non-null  float64\n",
      "dtypes: float64(9)\n",
      "memory usage: 1.4 MB\n"
     ]
    }
   ],
   "source": [
    "df.info()"
   ]
  },
  {
   "cell_type": "code",
   "execution_count": 5,
   "id": "9392887e-c376-4f1b-9d8b-286e31eef945",
   "metadata": {
    "pycharm": {
     "name": "#%%\n"
    }
   },
   "outputs": [
    {
     "data": {
      "text/html": [
       "<div>\n",
       "<style scoped>\n",
       "    .dataframe tbody tr th:only-of-type {\n",
       "        vertical-align: middle;\n",
       "    }\n",
       "\n",
       "    .dataframe tbody tr th {\n",
       "        vertical-align: top;\n",
       "    }\n",
       "\n",
       "    .dataframe thead th {\n",
       "        text-align: right;\n",
       "    }\n",
       "</style>\n",
       "<table border=\"1\" class=\"dataframe\">\n",
       "  <thead>\n",
       "    <tr style=\"text-align: right;\">\n",
       "      <th></th>\n",
       "      <th>MedInc</th>\n",
       "      <th>HouseAge</th>\n",
       "      <th>AveRooms</th>\n",
       "      <th>AveBedrms</th>\n",
       "      <th>Population</th>\n",
       "      <th>AveOccup</th>\n",
       "      <th>Latitude</th>\n",
       "      <th>Longitude</th>\n",
       "      <th>MedHouseVal</th>\n",
       "    </tr>\n",
       "  </thead>\n",
       "  <tbody>\n",
       "    <tr>\n",
       "      <th>0</th>\n",
       "      <td>8.3252</td>\n",
       "      <td>41.0</td>\n",
       "      <td>6.984127</td>\n",
       "      <td>1.023810</td>\n",
       "      <td>322.0</td>\n",
       "      <td>2.555556</td>\n",
       "      <td>37.88</td>\n",
       "      <td>-122.23</td>\n",
       "      <td>4.526</td>\n",
       "    </tr>\n",
       "    <tr>\n",
       "      <th>1</th>\n",
       "      <td>8.3014</td>\n",
       "      <td>21.0</td>\n",
       "      <td>6.238137</td>\n",
       "      <td>0.971880</td>\n",
       "      <td>2401.0</td>\n",
       "      <td>2.109842</td>\n",
       "      <td>37.86</td>\n",
       "      <td>-122.22</td>\n",
       "      <td>3.585</td>\n",
       "    </tr>\n",
       "    <tr>\n",
       "      <th>2</th>\n",
       "      <td>7.2574</td>\n",
       "      <td>52.0</td>\n",
       "      <td>8.288136</td>\n",
       "      <td>1.073446</td>\n",
       "      <td>496.0</td>\n",
       "      <td>2.802260</td>\n",
       "      <td>37.85</td>\n",
       "      <td>-122.24</td>\n",
       "      <td>3.521</td>\n",
       "    </tr>\n",
       "    <tr>\n",
       "      <th>3</th>\n",
       "      <td>5.6431</td>\n",
       "      <td>52.0</td>\n",
       "      <td>5.817352</td>\n",
       "      <td>1.073059</td>\n",
       "      <td>558.0</td>\n",
       "      <td>2.547945</td>\n",
       "      <td>37.85</td>\n",
       "      <td>-122.25</td>\n",
       "      <td>3.413</td>\n",
       "    </tr>\n",
       "    <tr>\n",
       "      <th>4</th>\n",
       "      <td>3.8462</td>\n",
       "      <td>52.0</td>\n",
       "      <td>6.281853</td>\n",
       "      <td>1.081081</td>\n",
       "      <td>565.0</td>\n",
       "      <td>2.181467</td>\n",
       "      <td>37.85</td>\n",
       "      <td>-122.25</td>\n",
       "      <td>3.422</td>\n",
       "    </tr>\n",
       "  </tbody>\n",
       "</table>\n",
       "</div>"
      ],
      "text/plain": [
       "   MedInc  HouseAge  AveRooms  AveBedrms  Population  AveOccup  Latitude  \\\n",
       "0  8.3252      41.0  6.984127   1.023810       322.0  2.555556     37.88   \n",
       "1  8.3014      21.0  6.238137   0.971880      2401.0  2.109842     37.86   \n",
       "2  7.2574      52.0  8.288136   1.073446       496.0  2.802260     37.85   \n",
       "3  5.6431      52.0  5.817352   1.073059       558.0  2.547945     37.85   \n",
       "4  3.8462      52.0  6.281853   1.081081       565.0  2.181467     37.85   \n",
       "\n",
       "   Longitude  MedHouseVal  \n",
       "0    -122.23        4.526  \n",
       "1    -122.22        3.585  \n",
       "2    -122.24        3.521  \n",
       "3    -122.25        3.413  \n",
       "4    -122.25        3.422  "
      ]
     },
     "execution_count": 5,
     "metadata": {},
     "output_type": "execute_result"
    }
   ],
   "source": [
    "df.head()"
   ]
  },
  {
   "cell_type": "code",
   "execution_count": 6,
   "id": "7e70fc27-4d7e-4044-bd98-c5666f95a67b",
   "metadata": {
    "pycharm": {
     "name": "#%%\n"
    }
   },
   "outputs": [
    {
     "data": {
      "text/plain": [
       "<Axes: >"
      ]
     },
     "execution_count": 6,
     "metadata": {},
     "output_type": "execute_result"
    },
    {
     "data": {
      "image/png": "[encoded data removed]",
      "text/plain": [
       "<Figure size 640x480 with 2 Axes>"
      ]
     },
     "metadata": {},
     "output_type": "display_data"
    }
   ],
   "source": [
    "# Step 2. Checking correlation\n",
    "sns.heatmap(df.corr())"
   ]
  },
  {
   "cell_type": "code",
   "execution_count": 7,
   "id": "a5b41b0f-bc8e-445d-8a46-82deff35fcb8",
   "metadata": {
    "pycharm": {
     "name": "#%%\n"
    }
   },
   "outputs": [
    {
     "data": {
      "text/plain": [
       "<Axes: >"
      ]
     },
     "execution_count": 7,
     "metadata": {},
     "output_type": "execute_result"
    },
    {
     "data": {
      "image/png": "[encoded data removed]",
      "text/plain": [
       "<Figure size 640x480 with 2 Axes>"
      ]
     },
     "metadata": {},
     "output_type": "display_data"
    }
   ],
   "source": [
    "df = df.drop(columns=['AveRooms'])\n",
    "sns.heatmap(df.corr())"
   ]
  },
  {
   "cell_type": "code",
   "execution_count": 8,
   "id": "2b2d3bfd-e341-4c36-bda3-028fac80d1c1",
   "metadata": {
    "pycharm": {
     "name": "#%%\n"
    }
   },
   "outputs": [],
   "source": [
    "# Step 3. Normalization and split\n",
    "from sklearn.preprocessing import StandardScaler\n",
    "from sklearn.model_selection import train_test_split\n",
    "\n",
    "X_train, X_test, y_train, y_test = train_test_split(df.drop(columns=['MedHouseVal']), df.MedHouseVal, test_size=0.3, random_state=42)\n",
    "\n",
    "scaler = StandardScaler()\n",
    "X_train = scaler.fit_transform(X_train)\n",
    "X_test = scaler.transform(X_test)"
   ]
  },
  {
   "cell_type": "code",
   "execution_count": 35,
   "id": "221ae618-a147-44f8-9617-0b80874c554e",
   "metadata": {
    "pycharm": {
     "name": "#%%\n"
    }
   },
   "outputs": [
    {
     "data": {
      "text/plain": [
       "0.3723454700624361"
      ]
     },
     "execution_count": 35,
     "metadata": {},
     "output_type": "execute_result"
    }
   ],
   "source": [
    "# Step 4. Calculate the baseline accuracy.\n",
    "from sklearn.metrics import mean_squared_error\n",
    "from sklearn.svm import SVR\n",
    "from sklearn.model_selection import cross_val_score # cross-validation\n",
    "\n",
    "#score fun\n",
    "def scorer(model, X,y):\n",
    "    return mean_squared_error(y, model.predict(X))\n",
    "\n",
    "svr = SVR()\n",
    "cross_val_score(svr, X_train, y_train, scoring = scorer, cv=10).mean()"
   ]
  },
  {
   "cell_type": "markdown",
   "id": "3480ebb6-05c6-47b6-be43-0981a55d8d2a",
   "metadata": {
    "pycharm": {
     "name": "#%% md\n"
    }
   },
   "source": [
    "<b>The baseline MSE: 37,2%</b>"
   ]
  },
  {
   "cell_type": "code",
   "execution_count": 14,
   "id": "3fc83eeb-70f5-41b6-8a3f-300c2f22d5ee",
   "metadata": {
    "pycharm": {
     "name": "#%%\n"
    }
   },
   "outputs": [
    {
     "name": "stdout",
     "output_type": "stream",
     "text": [
      "('sigmoid', 7, 'auto', 0.1)\n",
      "('sigmoid', 11, 'scale', 1e-05)\n",
      "('sigmoid', 11, 'auto', 1)\n",
      "('rbf', 1, 'auto', 1e-05)\n",
      "('rbf', 1, 'scale', 1e-05)\n",
      "('sigmoid', 3, 'scale', 1)\n",
      "('rbf', 3, 'auto', 0.1)\n",
      "('rbf', 11, 'auto', 0.1)\n",
      "('sigmoid', 3, 'scale', 10)\n",
      "('linear', 3, 'auto', 0.001)\n"
     ]
    }
   ],
   "source": [
    "# Step 5. Bayesian Optimisation: using hyperopt\n",
    "from hyperopt import hp, rand, fmin, tpe, Trials, STATUS_OK\n",
    "\n",
    "list_kernel = ['linear', 'rbf', 'sigmoid']\n",
    "list_degree = np.arange(1, 12, 2)\n",
    "list_gamma = ['scale', 'auto']\n",
    "list_C = [10e-6, 10e-4, 10e-2, 0.1, 1, 10]\n",
    "\n",
    "# parameters space for looking for\n",
    "search_space = [\n",
    "    hp.choice(label='kernel', options=['linear', 'rbf', 'sigmoid']),\n",
    "    hp.choice(label='degree', options=np.arange(1, 12, 2)),\n",
    "    hp.choice(label='gamma', options=['scale', 'auto']),\n",
    "    hp.choice(label='C', options=[10e-6, 10e-4, 10e-2, 0.1, 1, 10])\n",
    "]\n",
    "\n",
    "\n",
    "# sample allows you to evaluate the parameter space.\n",
    "from hyperopt.pyll.stochastic import sample\n",
    "\n",
    "samples = []\n",
    "\n",
    "for _ in range(10):\n",
    "    print(sample(search_space)) # space description (4 params)"
   ]
  },
  {
   "cell_type": "code",
   "execution_count": 15,
   "id": "83a5418d-6fa5-4915-a5a1-65b5ab8e282a",
   "metadata": {
    "pycharm": {
     "name": "#%%\n"
    }
   },
   "outputs": [],
   "source": [
    "# there is needed to create the function\n",
    "def objective(params):\n",
    "  svr = SVR(kernel=params[0], degree=params[1], gamma=params[2], C=params[3])\n",
    "  scores = cross_val_score(svr, X_train, y_train, scoring = scorer, cv=10)\n",
    "  return scores.mean()"
   ]
  },
  {
   "cell_type": "code",
   "execution_count": 16,
   "id": "bf993d48-3d04-417c-a9a2-365287d0a45b",
   "metadata": {
    "pycharm": {
     "name": "#%%\n"
    }
   },
   "outputs": [],
   "source": [
    "# tpe.suggest - method Bayesian Optimisation Tree of Parzen Estimators (TPE)\n",
    "tpe_algo = tpe.suggest\n",
    "\n",
    "# rand.suggest - Random Search\n",
    "rand_algo = rand.suggest\n",
    "\n",
    "# Create two trials objects (Trials - object for storing the search history)\n",
    "tpe_trials = Trials()  \n",
    "rand_trials = Trials()   "
   ]
  },
  {
   "cell_type": "code",
   "execution_count": 17,
   "id": "b0292720-476a-45d5-89d6-883bdcf85722",
   "metadata": {
    "pycharm": {
     "name": "#%%\n"
    }
   },
   "outputs": [
    {
     "name": "stdout",
     "output_type": "stream",
     "text": [
      "100%|██████████| 25/25 [40:21<00:00, 96.88s/trial, best loss: 0.34146405545556274] \n",
      "{'C': 5, 'degree': 1, 'gamma': 0, 'kernel': 1}\n"
     ]
    }
   ],
   "source": [
    "#run the process of params searching using fmin (Bayesian Optimisation)\n",
    "tpe_best = fmin(fn=objective, space=search_space, algo=tpe_algo, trials=tpe_trials, \n",
    "                max_evals=25)\n",
    "\n",
    "print(tpe_best)"
   ]
  },
  {
   "cell_type": "code",
   "execution_count": 19,
   "id": "7426aab2-3e12-4f52-8f07-89f1726a18c5",
   "metadata": {
    "pycharm": {
     "name": "#%%\n"
    }
   },
   "outputs": [
    {
     "data": {
      "text/plain": [
       "0.3282048912037783"
      ]
     },
     "execution_count": 19,
     "metadata": {},
     "output_type": "execute_result"
    }
   ],
   "source": [
    "#Get predictictions tpe_best\n",
    "svr_optimized =  SVR(kernel=list_kernel[tpe_best.get('kernel')], degree=list_degree[tpe_best.get('degree')], gamma=list_gamma[tpe_best.get('gamma')], C=list_C[tpe_best.get('C')]).fit(X_train, y_train)\n",
    "scorer(svr_optimized, X_test,y_test)"
   ]
  },
  {
   "cell_type": "markdown",
   "id": "37b68249-eb07-4b3f-bb2d-241b2c8ec7ee",
   "metadata": {
    "pycharm": {
     "name": "#%% md\n"
    }
   },
   "source": [
    "<b>Bayesian Optimisation TPE: 32.8%</b>"
   ]
  },
  {
   "cell_type": "code",
   "execution_count": 18,
   "id": "e08ecb89-14fe-4bd8-b106-f614c036b1bc",
   "metadata": {
    "pycharm": {
     "name": "#%%\n"
    }
   },
   "outputs": [
    {
     "name": "stdout",
     "output_type": "stream",
     "text": [
      "100%|██████████| 25/25 [1:13:01<00:00, 175.27s/trial, best loss: 0.34146405545556274]\n",
      "{'C': 5, 'degree': 0, 'gamma': 0, 'kernel': 1}\n"
     ]
    }
   ],
   "source": [
    "# Run 25 evals for Random Search\n",
    "rand_best = fmin(fn=objective, space=search_space, algo=rand_algo, trials=rand_trials, \n",
    "                 max_evals=25)\n",
    "\n",
    "print(rand_best)"
   ]
  },
  {
   "cell_type": "code",
   "execution_count": 20,
   "id": "f28017bc-f8f8-4bae-a0c8-4fce1bffaea3",
   "metadata": {
    "pycharm": {
     "name": "#%%\n"
    }
   },
   "outputs": [
    {
     "data": {
      "text/plain": [
       "0.3282048912037783"
      ]
     },
     "execution_count": 20,
     "metadata": {},
     "output_type": "execute_result"
    }
   ],
   "source": [
    "#Get predictictions rand_trials\n",
    "svr_optimized =  SVR(kernel=list_kernel[rand_best.get('kernel')], degree=list_degree[rand_best.get('degree')], gamma=list_gamma[rand_best.get('gamma')], C=list_C[rand_best.get('C')]).fit(X_train, y_train)\n",
    "scorer(svr_optimized, X_test,y_test)"
   ]
  },
  {
   "cell_type": "markdown",
   "id": "d9a7adf4-3e91-4b19-96bb-b3c3c415e2ac",
   "metadata": {
    "pycharm": {
     "name": "#%% md\n"
    }
   },
   "source": [
    "<b>Bayesian Optimisation Random Search: 32.8%</b>"
   ]
  },
  {
   "cell_type": "code",
   "execution_count": 21,
   "id": "86803cae-a223-4087-8234-8e485ce06d52",
   "metadata": {
    "pycharm": {
     "name": "#%%\n"
    }
   },
   "outputs": [],
   "source": [
    "# Step 5. Bayesian Optimisation: using optuna\n",
    "import optuna\n",
    "from optuna import Trial # special object that allows to assign various hypermarameters\n",
    "from optuna.samplers import TPESampler, CmaEsSampler  #TPESampler - Tree-structured Parzen Estimator; CmaEsSampler - algorithm on base CMA-ES\n",
    "\n",
    "#score fun\n",
    "def scorer(model, X,y):\n",
    "    return mean_squared_error(y, model.predict(X))\n",
    "\n",
    "\n",
    "#Define the target function \"objective\", through arguments it will receive a special object trial. With its help it is possible to assign various hypermarameters\n",
    "def objective(trial: Trial,X,y) -> float:\n",
    "    \n",
    "    param = {\n",
    "                \"kernel\" : trial.suggest_categorical('kernel', ['linear', 'rbf', 'sigmoid']),\n",
    "                'degree':trial.suggest_int('degree', 1, 12, 2),\n",
    "                'gamma':trial.suggest_categorical('gamma',['scale', 'auto']),\n",
    "                'C': trial.suggest_float('C', 10e-6, 10.0),\n",
    "            }\n",
    "   \n",
    "    model = SVR(**param)\n",
    "    return  cross_val_score(model, X, y, scoring = scorer, cv=10).mean()\n"
   ]
  },
  {
   "cell_type": "code",
   "execution_count": 24,
   "id": "8ed80e57-e564-4116-8f17-013f9968ea24",
   "metadata": {
    "pycharm": {
     "name": "#%%\n"
    }
   },
   "outputs": [
    {
     "name": "stderr",
     "output_type": "stream",
     "text": [
      "[I 2023-10-16 23:50:10,478] A new study created in memory with name: no-name-5bc2354c-cacd-46c8-b4f1-10546a1ff145\n",
      "[I 2023-10-16 23:53:14,005] Trial 0 finished with value: 368904.6402411525 and parameters: {'kernel': 'sigmoid', 'degree': 7, 'gamma': 'auto', 'C': 6.204327416439094}. Best is trial 0 with value: 368904.6402411525.\n",
      "[I 2023-10-17 00:00:15,534] Trial 1 finished with value: 2.3501155167672274 and parameters: {'kernel': 'linear', 'degree': 1, 'gamma': 'auto', 'C': 3.017978525066251}. Best is trial 1 with value: 2.3501155167672274.\n",
      "[I 2023-10-17 00:03:16,795] Trial 2 finished with value: 285871.7970977473 and parameters: {'kernel': 'sigmoid', 'degree': 9, 'gamma': 'scale', 'C': 5.377889396703899}. Best is trial 1 with value: 2.3501155167672274.\n",
      "[I 2023-10-17 00:17:04,138] Trial 3 finished with value: 2.352007613055634 and parameters: {'kernel': 'linear', 'degree': 1, 'gamma': 'scale', 'C': 7.789003957508994}. Best is trial 1 with value: 2.3501155167672274.\n",
      "[I 2023-10-17 00:18:44,507] Trial 4 finished with value: 283848.34402078646 and parameters: {'kernel': 'sigmoid', 'degree': 1, 'gamma': 'auto', 'C': 5.45617510333254}. Best is trial 1 with value: 2.3501155167672274.\n",
      "[I 2023-10-17 00:24:50,371] Trial 5 finished with value: 2.351436478951487 and parameters: {'kernel': 'linear', 'degree': 9, 'gamma': 'scale', 'C': 6.352965262592705}. Best is trial 1 with value: 2.3501155167672274.\n",
      "[I 2023-10-17 00:26:21,245] Trial 6 finished with value: 79368.26899385573 and parameters: {'kernel': 'sigmoid', 'degree': 1, 'gamma': 'auto', 'C': 2.8683260030482702}. Best is trial 1 with value: 2.3501155167672274.\n",
      "[I 2023-10-17 00:27:50,706] Trial 7 finished with value: 0.3439718931314014 and parameters: {'kernel': 'rbf', 'degree': 1, 'gamma': 'scale', 'C': 7.20943484263743}. Best is trial 7 with value: 0.3439718931314014.\n",
      "[I 2023-10-17 00:28:58,281] Trial 8 finished with value: 0.36649316184889164 and parameters: {'kernel': 'rbf', 'degree': 5, 'gamma': 'scale', 'C': 1.3673969569534985}. Best is trial 7 with value: 0.3439718931314014.\n",
      "[I 2023-10-17 00:30:10,122] Trial 9 finished with value: 0.35673614817398847 and parameters: {'kernel': 'rbf', 'degree': 5, 'gamma': 'scale', 'C': 2.453020300368183}. Best is trial 7 with value: 0.3439718931314014.\n",
      "[I 2023-10-17 00:31:43,720] Trial 10 finished with value: 0.34261401739365516 and parameters: {'kernel': 'rbf', 'degree': 3, 'gamma': 'scale', 'C': 8.662952413462515}. Best is trial 10 with value: 0.34261401739365516.\n",
      "[I 2023-10-17 00:33:19,914] Trial 11 finished with value: 0.34186149014778605 and parameters: {'kernel': 'rbf', 'degree': 3, 'gamma': 'scale', 'C': 9.487194837572643}. Best is trial 11 with value: 0.34186149014778605.\n",
      "[I 2023-10-17 00:34:57,597] Trial 12 finished with value: 0.3415992244915903 and parameters: {'kernel': 'rbf', 'degree': 3, 'gamma': 'scale', 'C': 9.816896827103399}. Best is trial 12 with value: 0.3415992244915903.\n",
      "[I 2023-10-17 00:36:35,517] Trial 13 finished with value: 0.3415264676783802 and parameters: {'kernel': 'rbf', 'degree': 3, 'gamma': 'scale', 'C': 9.920665477035412}. Best is trial 13 with value: 0.3415264676783802.\n",
      "[I 2023-10-17 00:38:10,872] Trial 14 finished with value: 0.3419795387143918 and parameters: {'kernel': 'rbf', 'degree': 3, 'gamma': 'scale', 'C': 9.340688058000806}. Best is trial 13 with value: 0.3415264676783802.\n",
      "[I 2023-10-17 00:39:47,850] Trial 15 finished with value: 0.3415983107397101 and parameters: {'kernel': 'rbf', 'degree': 11, 'gamma': 'scale', 'C': 9.816790964760408}. Best is trial 13 with value: 0.3415264676783802.\n",
      "[I 2023-10-17 00:41:20,195] Trial 16 finished with value: 0.3429979243004254 and parameters: {'kernel': 'rbf', 'degree': 11, 'gamma': 'scale', 'C': 8.24398055907832}. Best is trial 13 with value: 0.3415264676783802.\n",
      "[I 2023-10-17 00:42:57,625] Trial 17 finished with value: 0.3415788645720125 and parameters: {'kernel': 'rbf', 'degree': 11, 'gamma': 'scale', 'C': 9.839189225549001}. Best is trial 13 with value: 0.3415264676783802.\n",
      "[I 2023-10-17 00:44:29,722] Trial 18 finished with value: 0.3431455620810744 and parameters: {'kernel': 'rbf', 'degree': 7, 'gamma': 'auto', 'C': 8.379459885326714}. Best is trial 13 with value: 0.3415264676783802.\n",
      "[I 2023-10-17 00:51:03,659] Trial 19 finished with value: 2.3510168593699783 and parameters: {'kernel': 'linear', 'degree': 9, 'gamma': 'scale', 'C': 7.219032580198402}. Best is trial 13 with value: 0.3415264676783802.\n",
      "[I 2023-10-17 00:52:41,851] Trial 20 finished with value: 0.3414794988884998 and parameters: {'kernel': 'rbf', 'degree': 5, 'gamma': 'scale', 'C': 9.984979572233778}. Best is trial 20 with value: 0.3414794988884998.\n",
      "[I 2023-10-17 00:54:15,982] Trial 21 finished with value: 0.3423741786509777 and parameters: {'kernel': 'rbf', 'degree': 5, 'gamma': 'scale', 'C': 8.926893243982839}. Best is trial 20 with value: 0.3414794988884998.\n",
      "[I 2023-10-17 00:55:53,324] Trial 22 finished with value: 0.3416151063178096 and parameters: {'kernel': 'rbf', 'degree': 7, 'gamma': 'scale', 'C': 9.785541919132152}. Best is trial 20 with value: 0.3414794988884998.\n",
      "[I 2023-10-17 00:57:27,509] Trial 23 finished with value: 0.3424859098200863 and parameters: {'kernel': 'rbf', 'degree': 5, 'gamma': 'scale', 'C': 8.822878234621024}. Best is trial 20 with value: 0.3414794988884998.\n",
      "[I 2023-10-17 00:58:58,229] Trial 24 finished with value: 0.34328495205146403 and parameters: {'kernel': 'rbf', 'degree': 3, 'gamma': 'scale', 'C': 7.871854052251864}. Best is trial 20 with value: 0.3414794988884998.\n"
     ]
    },
    {
     "name": "stdout",
     "output_type": "stream",
     "text": [
      "Best trial: score 0.3414794988884998,\n",
      "params {'kernel': 'rbf', 'degree': 5, 'gamma': 'scale', 'C': 9.984979572233778}\n"
     ]
    }
   ],
   "source": [
    "#  optuna.create_study - study object\n",
    "study = optuna.create_study(direction='minimize',sampler=TPESampler()) \n",
    "\n",
    "# after creating study object, will start optimizing target function objective.\n",
    "study.optimize(lambda trial : objective(trial,X_train,y_train),n_trials= 25)\n",
    "\n",
    "#special fields that allow to see the results after training\n",
    "print('Best trial: score {},\\nparams {}'.format(study.best_trial.value,study.best_trial.params))"
   ]
  },
  {
   "cell_type": "code",
   "execution_count": 34,
   "id": "59b98a39-a1d5-423a-9f28-80926482dcbe",
   "metadata": {
    "pycharm": {
     "name": "#%%\n"
    }
   },
   "outputs": [
    {
     "data": {
      "text/plain": [
       "0.32822742605412636"
      ]
     },
     "execution_count": 34,
     "metadata": {},
     "output_type": "execute_result"
    }
   ],
   "source": [
    "#Get predict optuna\n",
    "svr_optimized =  SVR(**study.best_trial.params).fit(X_train, y_train)\n",
    "scorer(svr_optimized, X_test,y_test)"
   ]
  },
  {
   "cell_type": "markdown",
   "id": "ba7ea34f-7b2b-4734-a4fc-2a29be0c37f1",
   "metadata": {
    "pycharm": {
     "name": "#%% md\n"
    }
   },
   "source": [
    "<b>Conclusion:</b>\n",
    "\n",
    "|                          |    MSE          |\n",
    "|--------------------------|-----------------|\n",
    "|Baseline                  |     37,2%       |\n",
    "|hyperopt BO TPE           |     32.8%       |\n",
    "|hyperopt BO Random Search |     32.8%       |\n",
    "|optuna BO                 |     32.8%       |"
   ]
  },
  {
   "cell_type": "code",
   "execution_count": null,
   "id": "57b5b756-d31d-4a84-9161-dc9ee5ecad36",
   "metadata": {
    "pycharm": {
     "name": "#%%\n"
    }
   },
   "outputs": [],
   "source": []
  }
 ],
 "metadata": {
  "kernelspec": {
   "display_name": "Python 3 (ipykernel)",
   "language": "python",
   "name": "python3"
  },
  "language_info": {
   "codemirror_mode": {
    "name": "ipython",
    "version": 3
   },
   "file_extension": ".py",
   "mimetype": "text/x-python",
   "name": "python",
   "nbconvert_exporter": "python",
   "pygments_lexer": "ipython3",
   "version": "3.9.7"
  }
 },
 "nbformat": 4,
 "nbformat_minor": 5
}